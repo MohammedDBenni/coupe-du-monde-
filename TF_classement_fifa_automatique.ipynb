{
 "cells": [
  {
   "cell_type": "code",
   "execution_count": 2,
   "id": "750b01d3",
   "metadata": {},
   "outputs": [],
   "source": [
    "import numpy as np\n",
    "import pandas as pd\n",
    "import tensorflow as tf\n",
    "import matplotlib.pyplot as plt\n",
    "\n",
    "from sklearn.preprocessing import StandardScaler\n",
    "from sklearn.model_selection import train_test_split\n",
    "from tensorflow.keras.models import Sequential\n",
    "from tensorflow.keras.layers import Dense,Activation\n",
    "from sklearn.preprocessing import MinMaxScaler\n",
    "from sklearn.model_selection import KFold"
   ]
  },
  {
   "cell_type": "markdown",
   "id": "321349e6",
   "metadata": {},
   "source": [
    "# 1. Importation de la data"
   ]
  },
  {
   "cell_type": "code",
   "execution_count": 3,
   "id": "44504999",
   "metadata": {},
   "outputs": [],
   "source": [
    "versus=pd.read_csv(\"matchfiltreavecpourcentageranking2.csv\",sep=';')"
   ]
  },
  {
   "cell_type": "code",
   "execution_count": 4,
   "id": "838dd0d0",
   "metadata": {},
   "outputs": [
    {
     "data": {
      "text/html": [
       "<div>\n",
       "<style scoped>\n",
       "    .dataframe tbody tr th:only-of-type {\n",
       "        vertical-align: middle;\n",
       "    }\n",
       "\n",
       "    .dataframe tbody tr th {\n",
       "        vertical-align: top;\n",
       "    }\n",
       "\n",
       "    .dataframe thead th {\n",
       "        text-align: right;\n",
       "    }\n",
       "</style>\n",
       "<table border=\"1\" class=\"dataframe\">\n",
       "  <thead>\n",
       "    <tr style=\"text-align: right;\">\n",
       "      <th></th>\n",
       "      <th>date</th>\n",
       "      <th>home_team</th>\n",
       "      <th>home_score</th>\n",
       "      <th>away_score</th>\n",
       "      <th>away_team</th>\n",
       "      <th>tournament</th>\n",
       "      <th>winner</th>\n",
       "      <th>phase_final</th>\n",
       "      <th>home_team_pourcentage_victoire</th>\n",
       "      <th>home_team_but_mis</th>\n",
       "      <th>home_team_but_enc</th>\n",
       "      <th>away_team_pourcentage_victoire</th>\n",
       "      <th>away_team_but_mis</th>\n",
       "      <th>away_team_but_enc</th>\n",
       "      <th>Rang_home_team</th>\n",
       "      <th>Rang_away_team</th>\n",
       "      <th>Host</th>\n",
       "    </tr>\n",
       "  </thead>\n",
       "  <tbody>\n",
       "    <tr>\n",
       "      <th>0</th>\n",
       "      <td>1930</td>\n",
       "      <td>Spain</td>\n",
       "      <td>1</td>\n",
       "      <td>0</td>\n",
       "      <td>Czechoslovakia</td>\n",
       "      <td>0</td>\n",
       "      <td>2</td>\n",
       "      <td>0</td>\n",
       "      <td>85.71</td>\n",
       "      <td>3.1</td>\n",
       "      <td>1.1</td>\n",
       "      <td>37.50</td>\n",
       "      <td>2.2</td>\n",
       "      <td>1.7</td>\n",
       "      <td>NaN</td>\n",
       "      <td>NaN</td>\n",
       "      <td>1</td>\n",
       "    </tr>\n",
       "    <tr>\n",
       "      <th>1</th>\n",
       "      <td>1930</td>\n",
       "      <td>Portugal</td>\n",
       "      <td>1</td>\n",
       "      <td>0</td>\n",
       "      <td>Czechoslovakia</td>\n",
       "      <td>0</td>\n",
       "      <td>2</td>\n",
       "      <td>0</td>\n",
       "      <td>28.57</td>\n",
       "      <td>0.7</td>\n",
       "      <td>2.3</td>\n",
       "      <td>37.50</td>\n",
       "      <td>2.2</td>\n",
       "      <td>1.7</td>\n",
       "      <td>NaN</td>\n",
       "      <td>NaN</td>\n",
       "      <td>1</td>\n",
       "    </tr>\n",
       "    <tr>\n",
       "      <th>2</th>\n",
       "      <td>1930</td>\n",
       "      <td>Greece</td>\n",
       "      <td>2</td>\n",
       "      <td>1</td>\n",
       "      <td>Yugoslavia</td>\n",
       "      <td>0</td>\n",
       "      <td>2</td>\n",
       "      <td>0</td>\n",
       "      <td>50.00</td>\n",
       "      <td>2.5</td>\n",
       "      <td>2.8</td>\n",
       "      <td>41.67</td>\n",
       "      <td>2.4</td>\n",
       "      <td>2.1</td>\n",
       "      <td>NaN</td>\n",
       "      <td>NaN</td>\n",
       "      <td>1</td>\n",
       "    </tr>\n",
       "    <tr>\n",
       "      <th>3</th>\n",
       "      <td>1930</td>\n",
       "      <td>Northern Ireland</td>\n",
       "      <td>7</td>\n",
       "      <td>0</td>\n",
       "      <td>Wales</td>\n",
       "      <td>0</td>\n",
       "      <td>2</td>\n",
       "      <td>0</td>\n",
       "      <td>16.67</td>\n",
       "      <td>2.3</td>\n",
       "      <td>3.3</td>\n",
       "      <td>0.00</td>\n",
       "      <td>0.8</td>\n",
       "      <td>4.0</td>\n",
       "      <td>NaN</td>\n",
       "      <td>NaN</td>\n",
       "      <td>1</td>\n",
       "    </tr>\n",
       "    <tr>\n",
       "      <th>4</th>\n",
       "      <td>1930</td>\n",
       "      <td>Italy</td>\n",
       "      <td>4</td>\n",
       "      <td>2</td>\n",
       "      <td>Switzerland</td>\n",
       "      <td>0</td>\n",
       "      <td>2</td>\n",
       "      <td>0</td>\n",
       "      <td>55.56</td>\n",
       "      <td>2.8</td>\n",
       "      <td>1.6</td>\n",
       "      <td>7.69</td>\n",
       "      <td>1.7</td>\n",
       "      <td>3.7</td>\n",
       "      <td>NaN</td>\n",
       "      <td>NaN</td>\n",
       "      <td>1</td>\n",
       "    </tr>\n",
       "    <tr>\n",
       "      <th>...</th>\n",
       "      <td>...</td>\n",
       "      <td>...</td>\n",
       "      <td>...</td>\n",
       "      <td>...</td>\n",
       "      <td>...</td>\n",
       "      <td>...</td>\n",
       "      <td>...</td>\n",
       "      <td>...</td>\n",
       "      <td>...</td>\n",
       "      <td>...</td>\n",
       "      <td>...</td>\n",
       "      <td>...</td>\n",
       "      <td>...</td>\n",
       "      <td>...</td>\n",
       "      <td>...</td>\n",
       "      <td>...</td>\n",
       "      <td>...</td>\n",
       "    </tr>\n",
       "    <tr>\n",
       "      <th>29648</th>\n",
       "      <td>2021</td>\n",
       "      <td>Tunisia</td>\n",
       "      <td>1</td>\n",
       "      <td>0</td>\n",
       "      <td>Egypt</td>\n",
       "      <td>0</td>\n",
       "      <td>2</td>\n",
       "      <td>0</td>\n",
       "      <td>68.42</td>\n",
       "      <td>1.7</td>\n",
       "      <td>0.7</td>\n",
       "      <td>60.00</td>\n",
       "      <td>1.8</td>\n",
       "      <td>0.5</td>\n",
       "      <td>26.0</td>\n",
       "      <td>46.0</td>\n",
       "      <td>1</td>\n",
       "    </tr>\n",
       "    <tr>\n",
       "      <th>29649</th>\n",
       "      <td>2021</td>\n",
       "      <td>Autre pays</td>\n",
       "      <td>1</td>\n",
       "      <td>2</td>\n",
       "      <td>Algeria</td>\n",
       "      <td>0</td>\n",
       "      <td>0</td>\n",
       "      <td>0</td>\n",
       "      <td>20.00</td>\n",
       "      <td>0.8</td>\n",
       "      <td>1.8</td>\n",
       "      <td>70.00</td>\n",
       "      <td>3.0</td>\n",
       "      <td>0.8</td>\n",
       "      <td>99.0</td>\n",
       "      <td>33.0</td>\n",
       "      <td>1</td>\n",
       "    </tr>\n",
       "    <tr>\n",
       "      <th>29650</th>\n",
       "      <td>2021</td>\n",
       "      <td>Autre pays</td>\n",
       "      <td>0</td>\n",
       "      <td>0</td>\n",
       "      <td>Egypt</td>\n",
       "      <td>0</td>\n",
       "      <td>1</td>\n",
       "      <td>0</td>\n",
       "      <td>20.00</td>\n",
       "      <td>0.8</td>\n",
       "      <td>1.8</td>\n",
       "      <td>60.00</td>\n",
       "      <td>1.8</td>\n",
       "      <td>0.5</td>\n",
       "      <td>99.0</td>\n",
       "      <td>46.0</td>\n",
       "      <td>1</td>\n",
       "    </tr>\n",
       "    <tr>\n",
       "      <th>29651</th>\n",
       "      <td>2021</td>\n",
       "      <td>Tunisia</td>\n",
       "      <td>0</td>\n",
       "      <td>2</td>\n",
       "      <td>Algeria</td>\n",
       "      <td>0</td>\n",
       "      <td>0</td>\n",
       "      <td>0</td>\n",
       "      <td>68.42</td>\n",
       "      <td>1.7</td>\n",
       "      <td>0.7</td>\n",
       "      <td>70.00</td>\n",
       "      <td>3.0</td>\n",
       "      <td>0.8</td>\n",
       "      <td>26.0</td>\n",
       "      <td>33.0</td>\n",
       "      <td>1</td>\n",
       "    </tr>\n",
       "    <tr>\n",
       "      <th>29652</th>\n",
       "      <td>2021</td>\n",
       "      <td>United States</td>\n",
       "      <td>1</td>\n",
       "      <td>0</td>\n",
       "      <td>Bosnia and Herzegovina</td>\n",
       "      <td>0</td>\n",
       "      <td>2</td>\n",
       "      <td>0</td>\n",
       "      <td>76.92</td>\n",
       "      <td>2.3</td>\n",
       "      <td>0.5</td>\n",
       "      <td>9.52</td>\n",
       "      <td>0.7</td>\n",
       "      <td>1.4</td>\n",
       "      <td>20.0</td>\n",
       "      <td>55.0</td>\n",
       "      <td>1</td>\n",
       "    </tr>\n",
       "  </tbody>\n",
       "</table>\n",
       "<p>29653 rows × 17 columns</p>\n",
       "</div>"
      ],
      "text/plain": [
       "       date         home_team  home_score  away_score               away_team  \\\n",
       "0      1930             Spain           1           0          Czechoslovakia   \n",
       "1      1930          Portugal           1           0          Czechoslovakia   \n",
       "2      1930            Greece           2           1              Yugoslavia   \n",
       "3      1930  Northern Ireland           7           0                   Wales   \n",
       "4      1930             Italy           4           2             Switzerland   \n",
       "...     ...               ...         ...         ...                     ...   \n",
       "29648  2021           Tunisia           1           0                   Egypt   \n",
       "29649  2021        Autre pays           1           2                 Algeria   \n",
       "29650  2021        Autre pays           0           0                   Egypt   \n",
       "29651  2021           Tunisia           0           2                 Algeria   \n",
       "29652  2021     United States           1           0  Bosnia and Herzegovina   \n",
       "\n",
       "       tournament  winner  phase_final  home_team_pourcentage_victoire  \\\n",
       "0               0       2            0                           85.71   \n",
       "1               0       2            0                           28.57   \n",
       "2               0       2            0                           50.00   \n",
       "3               0       2            0                           16.67   \n",
       "4               0       2            0                           55.56   \n",
       "...           ...     ...          ...                             ...   \n",
       "29648           0       2            0                           68.42   \n",
       "29649           0       0            0                           20.00   \n",
       "29650           0       1            0                           20.00   \n",
       "29651           0       0            0                           68.42   \n",
       "29652           0       2            0                           76.92   \n",
       "\n",
       "       home_team_but_mis  home_team_but_enc  away_team_pourcentage_victoire  \\\n",
       "0                    3.1                1.1                           37.50   \n",
       "1                    0.7                2.3                           37.50   \n",
       "2                    2.5                2.8                           41.67   \n",
       "3                    2.3                3.3                            0.00   \n",
       "4                    2.8                1.6                            7.69   \n",
       "...                  ...                ...                             ...   \n",
       "29648                1.7                0.7                           60.00   \n",
       "29649                0.8                1.8                           70.00   \n",
       "29650                0.8                1.8                           60.00   \n",
       "29651                1.7                0.7                           70.00   \n",
       "29652                2.3                0.5                            9.52   \n",
       "\n",
       "       away_team_but_mis  away_team_but_enc  Rang_home_team  Rang_away_team  \\\n",
       "0                    2.2                1.7             NaN             NaN   \n",
       "1                    2.2                1.7             NaN             NaN   \n",
       "2                    2.4                2.1             NaN             NaN   \n",
       "3                    0.8                4.0             NaN             NaN   \n",
       "4                    1.7                3.7             NaN             NaN   \n",
       "...                  ...                ...             ...             ...   \n",
       "29648                1.8                0.5            26.0            46.0   \n",
       "29649                3.0                0.8            99.0            33.0   \n",
       "29650                1.8                0.5            99.0            46.0   \n",
       "29651                3.0                0.8            26.0            33.0   \n",
       "29652                0.7                1.4            20.0            55.0   \n",
       "\n",
       "       Host  \n",
       "0         1  \n",
       "1         1  \n",
       "2         1  \n",
       "3         1  \n",
       "4         1  \n",
       "...     ...  \n",
       "29648     1  \n",
       "29649     1  \n",
       "29650     1  \n",
       "29651     1  \n",
       "29652     1  \n",
       "\n",
       "[29653 rows x 17 columns]"
      ]
     },
     "execution_count": 4,
     "metadata": {},
     "output_type": "execute_result"
    }
   ],
   "source": [
    "versus"
   ]
  },
  {
   "cell_type": "code",
   "execution_count": 5,
   "id": "c38c9c7f",
   "metadata": {},
   "outputs": [],
   "source": [
    "victoire_home = 0\n",
    "victoire_away = 0\n",
    "nul = 0\n",
    "for i in range (len(versus)) :\n",
    "    if versus.loc[i][\"home_score\"] == versus.loc[i][\"away_score\"]:\n",
    "        nul +=1\n",
    "    elif versus.loc[i][\"home_score\"] > versus.loc[i][\"away_score\"] :\n",
    "        victoire_home +=1\n",
    "    elif versus.loc[i][\"home_score\"] < versus.loc[i][\"away_score\"] :\n",
    "        victoire_away +=1\n",
    "    \n",
    "poucentagevict_home = (victoire_home/ len(versus))*100\n",
    "pourcentagevict_away = (victoire_away/ len(versus))*100\n",
    "pourcentage_nul = (nul/len(versus))*100"
   ]
  },
  {
   "cell_type": "code",
   "execution_count": 6,
   "id": "97134455",
   "metadata": {},
   "outputs": [
    {
     "name": "stdout",
     "output_type": "stream",
     "text": [
      "Pourcentage de victoire a domicile : 48.17725019390956\n"
     ]
    }
   ],
   "source": [
    "print('Pourcentage de victoire a domicile :',poucentagevict_home)"
   ]
  },
  {
   "cell_type": "code",
   "execution_count": 7,
   "id": "b97c87eb",
   "metadata": {},
   "outputs": [
    {
     "name": "stdout",
     "output_type": "stream",
     "text": [
      "Pourcentage de victoire a l'extérieur : 28.496273564226215\n"
     ]
    }
   ],
   "source": [
    "print(\"Pourcentage de victoire a l'extérieur :\",pourcentagevict_away)"
   ]
  },
  {
   "cell_type": "code",
   "execution_count": 8,
   "id": "26311667",
   "metadata": {},
   "outputs": [
    {
     "name": "stdout",
     "output_type": "stream",
     "text": [
      "Pourcentage de match nul 23.32647624186423\n"
     ]
    }
   ],
   "source": [
    "print('Pourcentage de match nul',pourcentage_nul)"
   ]
  },
  {
   "cell_type": "markdown",
   "id": "49853913",
   "metadata": {},
   "source": [
    "# 2.Traitement de la data"
   ]
  },
  {
   "cell_type": "code",
   "execution_count": 9,
   "id": "f7692c0f",
   "metadata": {},
   "outputs": [],
   "source": [
    "versus=versus.drop('home_score',axis=1)"
   ]
  },
  {
   "cell_type": "code",
   "execution_count": 10,
   "id": "ddad8c06",
   "metadata": {},
   "outputs": [],
   "source": [
    "versus=versus.drop('away_score',axis=1)"
   ]
  },
  {
   "cell_type": "code",
   "execution_count": 11,
   "id": "bb568474",
   "metadata": {},
   "outputs": [],
   "source": [
    "versus=versus.drop('home_team',axis=1)"
   ]
  },
  {
   "cell_type": "code",
   "execution_count": 12,
   "id": "6812a8da",
   "metadata": {},
   "outputs": [],
   "source": [
    "versus=versus.drop('away_team',axis=1)"
   ]
  },
  {
   "cell_type": "code",
   "execution_count": 13,
   "id": "f4dbf683",
   "metadata": {},
   "outputs": [
    {
     "data": {
      "text/html": [
       "<div>\n",
       "<style scoped>\n",
       "    .dataframe tbody tr th:only-of-type {\n",
       "        vertical-align: middle;\n",
       "    }\n",
       "\n",
       "    .dataframe tbody tr th {\n",
       "        vertical-align: top;\n",
       "    }\n",
       "\n",
       "    .dataframe thead th {\n",
       "        text-align: right;\n",
       "    }\n",
       "</style>\n",
       "<table border=\"1\" class=\"dataframe\">\n",
       "  <thead>\n",
       "    <tr style=\"text-align: right;\">\n",
       "      <th></th>\n",
       "      <th>date</th>\n",
       "      <th>tournament</th>\n",
       "      <th>winner</th>\n",
       "      <th>phase_final</th>\n",
       "      <th>home_team_pourcentage_victoire</th>\n",
       "      <th>home_team_but_mis</th>\n",
       "      <th>home_team_but_enc</th>\n",
       "      <th>away_team_pourcentage_victoire</th>\n",
       "      <th>away_team_but_mis</th>\n",
       "      <th>away_team_but_enc</th>\n",
       "      <th>Rang_home_team</th>\n",
       "      <th>Rang_away_team</th>\n",
       "      <th>Host</th>\n",
       "    </tr>\n",
       "  </thead>\n",
       "  <tbody>\n",
       "    <tr>\n",
       "      <th>0</th>\n",
       "      <td>1930</td>\n",
       "      <td>0</td>\n",
       "      <td>2</td>\n",
       "      <td>0</td>\n",
       "      <td>85.71</td>\n",
       "      <td>3.1</td>\n",
       "      <td>1.1</td>\n",
       "      <td>37.50</td>\n",
       "      <td>2.2</td>\n",
       "      <td>1.7</td>\n",
       "      <td>NaN</td>\n",
       "      <td>NaN</td>\n",
       "      <td>1</td>\n",
       "    </tr>\n",
       "    <tr>\n",
       "      <th>1</th>\n",
       "      <td>1930</td>\n",
       "      <td>0</td>\n",
       "      <td>2</td>\n",
       "      <td>0</td>\n",
       "      <td>28.57</td>\n",
       "      <td>0.7</td>\n",
       "      <td>2.3</td>\n",
       "      <td>37.50</td>\n",
       "      <td>2.2</td>\n",
       "      <td>1.7</td>\n",
       "      <td>NaN</td>\n",
       "      <td>NaN</td>\n",
       "      <td>1</td>\n",
       "    </tr>\n",
       "    <tr>\n",
       "      <th>2</th>\n",
       "      <td>1930</td>\n",
       "      <td>0</td>\n",
       "      <td>2</td>\n",
       "      <td>0</td>\n",
       "      <td>50.00</td>\n",
       "      <td>2.5</td>\n",
       "      <td>2.8</td>\n",
       "      <td>41.67</td>\n",
       "      <td>2.4</td>\n",
       "      <td>2.1</td>\n",
       "      <td>NaN</td>\n",
       "      <td>NaN</td>\n",
       "      <td>1</td>\n",
       "    </tr>\n",
       "    <tr>\n",
       "      <th>3</th>\n",
       "      <td>1930</td>\n",
       "      <td>0</td>\n",
       "      <td>2</td>\n",
       "      <td>0</td>\n",
       "      <td>16.67</td>\n",
       "      <td>2.3</td>\n",
       "      <td>3.3</td>\n",
       "      <td>0.00</td>\n",
       "      <td>0.8</td>\n",
       "      <td>4.0</td>\n",
       "      <td>NaN</td>\n",
       "      <td>NaN</td>\n",
       "      <td>1</td>\n",
       "    </tr>\n",
       "    <tr>\n",
       "      <th>4</th>\n",
       "      <td>1930</td>\n",
       "      <td>0</td>\n",
       "      <td>2</td>\n",
       "      <td>0</td>\n",
       "      <td>55.56</td>\n",
       "      <td>2.8</td>\n",
       "      <td>1.6</td>\n",
       "      <td>7.69</td>\n",
       "      <td>1.7</td>\n",
       "      <td>3.7</td>\n",
       "      <td>NaN</td>\n",
       "      <td>NaN</td>\n",
       "      <td>1</td>\n",
       "    </tr>\n",
       "    <tr>\n",
       "      <th>...</th>\n",
       "      <td>...</td>\n",
       "      <td>...</td>\n",
       "      <td>...</td>\n",
       "      <td>...</td>\n",
       "      <td>...</td>\n",
       "      <td>...</td>\n",
       "      <td>...</td>\n",
       "      <td>...</td>\n",
       "      <td>...</td>\n",
       "      <td>...</td>\n",
       "      <td>...</td>\n",
       "      <td>...</td>\n",
       "      <td>...</td>\n",
       "    </tr>\n",
       "    <tr>\n",
       "      <th>29648</th>\n",
       "      <td>2021</td>\n",
       "      <td>0</td>\n",
       "      <td>2</td>\n",
       "      <td>0</td>\n",
       "      <td>68.42</td>\n",
       "      <td>1.7</td>\n",
       "      <td>0.7</td>\n",
       "      <td>60.00</td>\n",
       "      <td>1.8</td>\n",
       "      <td>0.5</td>\n",
       "      <td>26.0</td>\n",
       "      <td>46.0</td>\n",
       "      <td>1</td>\n",
       "    </tr>\n",
       "    <tr>\n",
       "      <th>29649</th>\n",
       "      <td>2021</td>\n",
       "      <td>0</td>\n",
       "      <td>0</td>\n",
       "      <td>0</td>\n",
       "      <td>20.00</td>\n",
       "      <td>0.8</td>\n",
       "      <td>1.8</td>\n",
       "      <td>70.00</td>\n",
       "      <td>3.0</td>\n",
       "      <td>0.8</td>\n",
       "      <td>99.0</td>\n",
       "      <td>33.0</td>\n",
       "      <td>1</td>\n",
       "    </tr>\n",
       "    <tr>\n",
       "      <th>29650</th>\n",
       "      <td>2021</td>\n",
       "      <td>0</td>\n",
       "      <td>1</td>\n",
       "      <td>0</td>\n",
       "      <td>20.00</td>\n",
       "      <td>0.8</td>\n",
       "      <td>1.8</td>\n",
       "      <td>60.00</td>\n",
       "      <td>1.8</td>\n",
       "      <td>0.5</td>\n",
       "      <td>99.0</td>\n",
       "      <td>46.0</td>\n",
       "      <td>1</td>\n",
       "    </tr>\n",
       "    <tr>\n",
       "      <th>29651</th>\n",
       "      <td>2021</td>\n",
       "      <td>0</td>\n",
       "      <td>0</td>\n",
       "      <td>0</td>\n",
       "      <td>68.42</td>\n",
       "      <td>1.7</td>\n",
       "      <td>0.7</td>\n",
       "      <td>70.00</td>\n",
       "      <td>3.0</td>\n",
       "      <td>0.8</td>\n",
       "      <td>26.0</td>\n",
       "      <td>33.0</td>\n",
       "      <td>1</td>\n",
       "    </tr>\n",
       "    <tr>\n",
       "      <th>29652</th>\n",
       "      <td>2021</td>\n",
       "      <td>0</td>\n",
       "      <td>2</td>\n",
       "      <td>0</td>\n",
       "      <td>76.92</td>\n",
       "      <td>2.3</td>\n",
       "      <td>0.5</td>\n",
       "      <td>9.52</td>\n",
       "      <td>0.7</td>\n",
       "      <td>1.4</td>\n",
       "      <td>20.0</td>\n",
       "      <td>55.0</td>\n",
       "      <td>1</td>\n",
       "    </tr>\n",
       "  </tbody>\n",
       "</table>\n",
       "<p>29653 rows × 13 columns</p>\n",
       "</div>"
      ],
      "text/plain": [
       "       date  tournament  winner  phase_final  home_team_pourcentage_victoire  \\\n",
       "0      1930           0       2            0                           85.71   \n",
       "1      1930           0       2            0                           28.57   \n",
       "2      1930           0       2            0                           50.00   \n",
       "3      1930           0       2            0                           16.67   \n",
       "4      1930           0       2            0                           55.56   \n",
       "...     ...         ...     ...          ...                             ...   \n",
       "29648  2021           0       2            0                           68.42   \n",
       "29649  2021           0       0            0                           20.00   \n",
       "29650  2021           0       1            0                           20.00   \n",
       "29651  2021           0       0            0                           68.42   \n",
       "29652  2021           0       2            0                           76.92   \n",
       "\n",
       "       home_team_but_mis  home_team_but_enc  away_team_pourcentage_victoire  \\\n",
       "0                    3.1                1.1                           37.50   \n",
       "1                    0.7                2.3                           37.50   \n",
       "2                    2.5                2.8                           41.67   \n",
       "3                    2.3                3.3                            0.00   \n",
       "4                    2.8                1.6                            7.69   \n",
       "...                  ...                ...                             ...   \n",
       "29648                1.7                0.7                           60.00   \n",
       "29649                0.8                1.8                           70.00   \n",
       "29650                0.8                1.8                           60.00   \n",
       "29651                1.7                0.7                           70.00   \n",
       "29652                2.3                0.5                            9.52   \n",
       "\n",
       "       away_team_but_mis  away_team_but_enc  Rang_home_team  Rang_away_team  \\\n",
       "0                    2.2                1.7             NaN             NaN   \n",
       "1                    2.2                1.7             NaN             NaN   \n",
       "2                    2.4                2.1             NaN             NaN   \n",
       "3                    0.8                4.0             NaN             NaN   \n",
       "4                    1.7                3.7             NaN             NaN   \n",
       "...                  ...                ...             ...             ...   \n",
       "29648                1.8                0.5            26.0            46.0   \n",
       "29649                3.0                0.8            99.0            33.0   \n",
       "29650                1.8                0.5            99.0            46.0   \n",
       "29651                3.0                0.8            26.0            33.0   \n",
       "29652                0.7                1.4            20.0            55.0   \n",
       "\n",
       "       Host  \n",
       "0         1  \n",
       "1         1  \n",
       "2         1  \n",
       "3         1  \n",
       "4         1  \n",
       "...     ...  \n",
       "29648     1  \n",
       "29649     1  \n",
       "29650     1  \n",
       "29651     1  \n",
       "29652     1  \n",
       "\n",
       "[29653 rows x 13 columns]"
      ]
     },
     "execution_count": 13,
     "metadata": {},
     "output_type": "execute_result"
    }
   ],
   "source": [
    "versus"
   ]
  },
  {
   "cell_type": "code",
   "execution_count": 14,
   "id": "af1d1191",
   "metadata": {},
   "outputs": [],
   "source": [
    "versus.dropna(axis=0,inplace=True)"
   ]
  },
  {
   "cell_type": "code",
   "execution_count": 15,
   "id": "5c05517f",
   "metadata": {},
   "outputs": [],
   "source": [
    "versus['Rang_home_team']=(1.)/(versus['Rang_home_team'])"
   ]
  },
  {
   "cell_type": "code",
   "execution_count": 16,
   "id": "ae7ffc5a",
   "metadata": {},
   "outputs": [],
   "source": [
    "versus['Rang_away_team']=(1.)/(versus['Rang_away_team'])"
   ]
  },
  {
   "cell_type": "code",
   "execution_count": 17,
   "id": "cff6447b",
   "metadata": {},
   "outputs": [
    {
     "data": {
      "text/html": [
       "<div>\n",
       "<style scoped>\n",
       "    .dataframe tbody tr th:only-of-type {\n",
       "        vertical-align: middle;\n",
       "    }\n",
       "\n",
       "    .dataframe tbody tr th {\n",
       "        vertical-align: top;\n",
       "    }\n",
       "\n",
       "    .dataframe thead th {\n",
       "        text-align: right;\n",
       "    }\n",
       "</style>\n",
       "<table border=\"1\" class=\"dataframe\">\n",
       "  <thead>\n",
       "    <tr style=\"text-align: right;\">\n",
       "      <th></th>\n",
       "      <th>date</th>\n",
       "      <th>tournament</th>\n",
       "      <th>winner</th>\n",
       "      <th>phase_final</th>\n",
       "      <th>home_team_pourcentage_victoire</th>\n",
       "      <th>home_team_but_mis</th>\n",
       "      <th>home_team_but_enc</th>\n",
       "      <th>away_team_pourcentage_victoire</th>\n",
       "      <th>away_team_but_mis</th>\n",
       "      <th>away_team_but_enc</th>\n",
       "      <th>Rang_home_team</th>\n",
       "      <th>Rang_away_team</th>\n",
       "      <th>Host</th>\n",
       "    </tr>\n",
       "  </thead>\n",
       "  <tbody>\n",
       "    <tr>\n",
       "      <th>12315</th>\n",
       "      <td>1992</td>\n",
       "      <td>0</td>\n",
       "      <td>2</td>\n",
       "      <td>0</td>\n",
       "      <td>37.50</td>\n",
       "      <td>1.6</td>\n",
       "      <td>0.9</td>\n",
       "      <td>40.00</td>\n",
       "      <td>1.5</td>\n",
       "      <td>1.0</td>\n",
       "      <td>0.047619</td>\n",
       "      <td>0.055556</td>\n",
       "      <td>1</td>\n",
       "    </tr>\n",
       "    <tr>\n",
       "      <th>12316</th>\n",
       "      <td>1992</td>\n",
       "      <td>0</td>\n",
       "      <td>2</td>\n",
       "      <td>0</td>\n",
       "      <td>20.00</td>\n",
       "      <td>0.8</td>\n",
       "      <td>1.8</td>\n",
       "      <td>46.43</td>\n",
       "      <td>1.5</td>\n",
       "      <td>0.9</td>\n",
       "      <td>0.010101</td>\n",
       "      <td>0.037037</td>\n",
       "      <td>1</td>\n",
       "    </tr>\n",
       "    <tr>\n",
       "      <th>12317</th>\n",
       "      <td>1992</td>\n",
       "      <td>0</td>\n",
       "      <td>1</td>\n",
       "      <td>0</td>\n",
       "      <td>37.50</td>\n",
       "      <td>1.6</td>\n",
       "      <td>0.9</td>\n",
       "      <td>40.00</td>\n",
       "      <td>1.6</td>\n",
       "      <td>0.8</td>\n",
       "      <td>0.047619</td>\n",
       "      <td>0.071429</td>\n",
       "      <td>1</td>\n",
       "    </tr>\n",
       "    <tr>\n",
       "      <th>12318</th>\n",
       "      <td>1992</td>\n",
       "      <td>0</td>\n",
       "      <td>2</td>\n",
       "      <td>0</td>\n",
       "      <td>40.00</td>\n",
       "      <td>1.0</td>\n",
       "      <td>0.7</td>\n",
       "      <td>37.50</td>\n",
       "      <td>1.4</td>\n",
       "      <td>0.8</td>\n",
       "      <td>0.045455</td>\n",
       "      <td>0.024390</td>\n",
       "      <td>1</td>\n",
       "    </tr>\n",
       "    <tr>\n",
       "      <th>12319</th>\n",
       "      <td>1992</td>\n",
       "      <td>0</td>\n",
       "      <td>0</td>\n",
       "      <td>0</td>\n",
       "      <td>36.36</td>\n",
       "      <td>1.3</td>\n",
       "      <td>1.0</td>\n",
       "      <td>61.90</td>\n",
       "      <td>2.0</td>\n",
       "      <td>0.7</td>\n",
       "      <td>0.019608</td>\n",
       "      <td>0.076923</td>\n",
       "      <td>1</td>\n",
       "    </tr>\n",
       "    <tr>\n",
       "      <th>...</th>\n",
       "      <td>...</td>\n",
       "      <td>...</td>\n",
       "      <td>...</td>\n",
       "      <td>...</td>\n",
       "      <td>...</td>\n",
       "      <td>...</td>\n",
       "      <td>...</td>\n",
       "      <td>...</td>\n",
       "      <td>...</td>\n",
       "      <td>...</td>\n",
       "      <td>...</td>\n",
       "      <td>...</td>\n",
       "      <td>...</td>\n",
       "    </tr>\n",
       "    <tr>\n",
       "      <th>29648</th>\n",
       "      <td>2021</td>\n",
       "      <td>0</td>\n",
       "      <td>2</td>\n",
       "      <td>0</td>\n",
       "      <td>68.42</td>\n",
       "      <td>1.7</td>\n",
       "      <td>0.7</td>\n",
       "      <td>60.00</td>\n",
       "      <td>1.8</td>\n",
       "      <td>0.5</td>\n",
       "      <td>0.038462</td>\n",
       "      <td>0.021739</td>\n",
       "      <td>1</td>\n",
       "    </tr>\n",
       "    <tr>\n",
       "      <th>29649</th>\n",
       "      <td>2021</td>\n",
       "      <td>0</td>\n",
       "      <td>0</td>\n",
       "      <td>0</td>\n",
       "      <td>20.00</td>\n",
       "      <td>0.8</td>\n",
       "      <td>1.8</td>\n",
       "      <td>70.00</td>\n",
       "      <td>3.0</td>\n",
       "      <td>0.8</td>\n",
       "      <td>0.010101</td>\n",
       "      <td>0.030303</td>\n",
       "      <td>1</td>\n",
       "    </tr>\n",
       "    <tr>\n",
       "      <th>29650</th>\n",
       "      <td>2021</td>\n",
       "      <td>0</td>\n",
       "      <td>1</td>\n",
       "      <td>0</td>\n",
       "      <td>20.00</td>\n",
       "      <td>0.8</td>\n",
       "      <td>1.8</td>\n",
       "      <td>60.00</td>\n",
       "      <td>1.8</td>\n",
       "      <td>0.5</td>\n",
       "      <td>0.010101</td>\n",
       "      <td>0.021739</td>\n",
       "      <td>1</td>\n",
       "    </tr>\n",
       "    <tr>\n",
       "      <th>29651</th>\n",
       "      <td>2021</td>\n",
       "      <td>0</td>\n",
       "      <td>0</td>\n",
       "      <td>0</td>\n",
       "      <td>68.42</td>\n",
       "      <td>1.7</td>\n",
       "      <td>0.7</td>\n",
       "      <td>70.00</td>\n",
       "      <td>3.0</td>\n",
       "      <td>0.8</td>\n",
       "      <td>0.038462</td>\n",
       "      <td>0.030303</td>\n",
       "      <td>1</td>\n",
       "    </tr>\n",
       "    <tr>\n",
       "      <th>29652</th>\n",
       "      <td>2021</td>\n",
       "      <td>0</td>\n",
       "      <td>2</td>\n",
       "      <td>0</td>\n",
       "      <td>76.92</td>\n",
       "      <td>2.3</td>\n",
       "      <td>0.5</td>\n",
       "      <td>9.52</td>\n",
       "      <td>0.7</td>\n",
       "      <td>1.4</td>\n",
       "      <td>0.050000</td>\n",
       "      <td>0.018182</td>\n",
       "      <td>1</td>\n",
       "    </tr>\n",
       "  </tbody>\n",
       "</table>\n",
       "<p>16600 rows × 13 columns</p>\n",
       "</div>"
      ],
      "text/plain": [
       "       date  tournament  winner  phase_final  home_team_pourcentage_victoire  \\\n",
       "12315  1992           0       2            0                           37.50   \n",
       "12316  1992           0       2            0                           20.00   \n",
       "12317  1992           0       1            0                           37.50   \n",
       "12318  1992           0       2            0                           40.00   \n",
       "12319  1992           0       0            0                           36.36   \n",
       "...     ...         ...     ...          ...                             ...   \n",
       "29648  2021           0       2            0                           68.42   \n",
       "29649  2021           0       0            0                           20.00   \n",
       "29650  2021           0       1            0                           20.00   \n",
       "29651  2021           0       0            0                           68.42   \n",
       "29652  2021           0       2            0                           76.92   \n",
       "\n",
       "       home_team_but_mis  home_team_but_enc  away_team_pourcentage_victoire  \\\n",
       "12315                1.6                0.9                           40.00   \n",
       "12316                0.8                1.8                           46.43   \n",
       "12317                1.6                0.9                           40.00   \n",
       "12318                1.0                0.7                           37.50   \n",
       "12319                1.3                1.0                           61.90   \n",
       "...                  ...                ...                             ...   \n",
       "29648                1.7                0.7                           60.00   \n",
       "29649                0.8                1.8                           70.00   \n",
       "29650                0.8                1.8                           60.00   \n",
       "29651                1.7                0.7                           70.00   \n",
       "29652                2.3                0.5                            9.52   \n",
       "\n",
       "       away_team_but_mis  away_team_but_enc  Rang_home_team  Rang_away_team  \\\n",
       "12315                1.5                1.0        0.047619        0.055556   \n",
       "12316                1.5                0.9        0.010101        0.037037   \n",
       "12317                1.6                0.8        0.047619        0.071429   \n",
       "12318                1.4                0.8        0.045455        0.024390   \n",
       "12319                2.0                0.7        0.019608        0.076923   \n",
       "...                  ...                ...             ...             ...   \n",
       "29648                1.8                0.5        0.038462        0.021739   \n",
       "29649                3.0                0.8        0.010101        0.030303   \n",
       "29650                1.8                0.5        0.010101        0.021739   \n",
       "29651                3.0                0.8        0.038462        0.030303   \n",
       "29652                0.7                1.4        0.050000        0.018182   \n",
       "\n",
       "       Host  \n",
       "12315     1  \n",
       "12316     1  \n",
       "12317     1  \n",
       "12318     1  \n",
       "12319     1  \n",
       "...     ...  \n",
       "29648     1  \n",
       "29649     1  \n",
       "29650     1  \n",
       "29651     1  \n",
       "29652     1  \n",
       "\n",
       "[16600 rows x 13 columns]"
      ]
     },
     "execution_count": 17,
     "metadata": {},
     "output_type": "execute_result"
    }
   ],
   "source": [
    "versus"
   ]
  },
  {
   "cell_type": "markdown",
   "id": "ea3a8b1d",
   "metadata": {},
   "source": [
    "# 3.Convertion du dataframe en tableau"
   ]
  },
  {
   "cell_type": "code",
   "execution_count": 18,
   "id": "c765306b",
   "metadata": {},
   "outputs": [],
   "source": [
    "#Met y sous forme d'un tableau\n",
    "y=versus[['winner']].values\n"
   ]
  },
  {
   "cell_type": "code",
   "execution_count": 19,
   "id": "faa9fc67",
   "metadata": {},
   "outputs": [
    {
     "data": {
      "text/plain": [
       "(16600, 3)"
      ]
     },
     "execution_count": 19,
     "metadata": {},
     "output_type": "execute_result"
    }
   ],
   "source": [
    "X=versus[['Rang_home_team','Rang_away_team','Host']].values\n",
    "X.shape"
   ]
  },
  {
   "cell_type": "markdown",
   "id": "224bd1d6",
   "metadata": {},
   "source": [
    "# 4.Séparation de la data d'entraînement de la data de test"
   ]
  },
  {
   "cell_type": "code",
   "execution_count": 20,
   "id": "ec424045",
   "metadata": {},
   "outputs": [],
   "source": [
    "#X_train,X_test,Y_train,Y_test=train_test_split(X_scaled,y_scaled,test_size=0.3,random_state=0)  #pour utiliser la version normalisé\n",
    "#X_train,X_test,Y_train,y_test=train_test_split(X,y,test_size=0.3,random_state=0)"
   ]
  },
  {
   "cell_type": "markdown",
   "id": "6dcc57bf",
   "metadata": {},
   "source": [
    "# 4.Cross validation"
   ]
  },
  {
   "cell_type": "code",
   "execution_count": 21,
   "id": "dec74928",
   "metadata": {},
   "outputs": [],
   "source": [
    "for train_index,test_index in KFold(3,shuffle=True, random_state=0).split(X):\n",
    "    X_train,X_test=X[train_index],X[test_index]\n",
    "    y_train,y_test=y[train_index],y[test_index]"
   ]
  },
  {
   "cell_type": "markdown",
   "id": "ddd1160e",
   "metadata": {},
   "source": [
    "# 5.Création d'un réseau de Neurone Artificiel"
   ]
  },
  {
   "cell_type": "code",
   "execution_count": 22,
   "id": "0bb4e65f",
   "metadata": {},
   "outputs": [
    {
     "name": "stdout",
     "output_type": "stream",
     "text": [
      "Model: \"sequential\"\n",
      "_________________________________________________________________\n",
      " Layer (type)                Output Shape              Param #   \n",
      "=================================================================\n",
      " dense (Dense)               (None, 32)                128       \n",
      "                                                                 \n",
      " activation (Activation)     (None, 32)                0         \n",
      "                                                                 \n",
      " dense_1 (Dense)             (None, 3)                 99        \n",
      "                                                                 \n",
      " activation_1 (Activation)   (None, 3)                 0         \n",
      "                                                                 \n",
      "=================================================================\n",
      "Total params: 227\n",
      "Trainable params: 227\n",
      "Non-trainable params: 0\n",
      "_________________________________________________________________\n"
     ]
    }
   ],
   "source": [
    "model = Sequential()\n",
    "\n",
    "model.add(Dense(32, input_dim=3))\n",
    "model.add(Activation('relu'))\n",
    "\n",
    "\n",
    "model.add(Dense(3))\n",
    "model.add(Activation('softmax'))\n",
    "model.compile(loss='sparse_categorical_crossentropy',optimizer='Adam',metrics=['sparse_categorical_accuracy'])\n",
    "\n",
    "model.summary()"
   ]
  },
  {
   "cell_type": "markdown",
   "id": "bf95ceca",
   "metadata": {},
   "source": [
    "# 6.entraînement du model"
   ]
  },
  {
   "cell_type": "code",
   "execution_count": 22,
   "id": "4733fb3a",
   "metadata": {},
   "outputs": [
    {
     "name": "stdout",
     "output_type": "stream",
     "text": [
      "Epoch 1/40\n",
      "11067/11067 [==============================] - 13s 1ms/step - loss: 1.0125 - sparse_categorical_accuracy: 0.5080\n",
      "Epoch 2/40\n",
      "11067/11067 [==============================] - 13s 1ms/step - loss: 0.9779 - sparse_categorical_accuracy: 0.5391\n",
      "Epoch 3/40\n",
      "11067/11067 [==============================] - 13s 1ms/step - loss: 0.9572 - sparse_categorical_accuracy: 0.5534\n",
      "Epoch 4/40\n",
      "11067/11067 [==============================] - 13s 1ms/step - loss: 0.9446 - sparse_categorical_accuracy: 0.5642\n",
      "Epoch 5/40\n",
      "11067/11067 [==============================] - 12s 1ms/step - loss: 0.9372 - sparse_categorical_accuracy: 0.5682\n",
      "Epoch 6/40\n",
      "11067/11067 [==============================] - 13s 1ms/step - loss: 0.9346 - sparse_categorical_accuracy: 0.5665\n",
      "Epoch 7/40\n",
      "11067/11067 [==============================] - 13s 1ms/step - loss: 0.9315 - sparse_categorical_accuracy: 0.5714\n",
      "Epoch 8/40\n",
      "11067/11067 [==============================] - 13s 1ms/step - loss: 0.9290 - sparse_categorical_accuracy: 0.5750\n",
      "Epoch 9/40\n",
      "11067/11067 [==============================] - 12s 1ms/step - loss: 0.9294 - sparse_categorical_accuracy: 0.5728\n",
      "Epoch 10/40\n",
      "11067/11067 [==============================] - 12s 1ms/step - loss: 0.9275 - sparse_categorical_accuracy: 0.5741\n",
      "Epoch 11/40\n",
      "11067/11067 [==============================] - 12s 1ms/step - loss: 0.9267 - sparse_categorical_accuracy: 0.5771\n",
      "Epoch 12/40\n",
      "11067/11067 [==============================] - 12s 1ms/step - loss: 0.9260 - sparse_categorical_accuracy: 0.5751\n",
      "Epoch 13/40\n",
      "11067/11067 [==============================] - 12s 1ms/step - loss: 0.9262 - sparse_categorical_accuracy: 0.5734\n",
      "Epoch 14/40\n",
      "11067/11067 [==============================] - 12s 1ms/step - loss: 0.9262 - sparse_categorical_accuracy: 0.5754\n",
      "Epoch 15/40\n",
      "11067/11067 [==============================] - 12s 1ms/step - loss: 0.9261 - sparse_categorical_accuracy: 0.5762\n",
      "Epoch 16/40\n",
      "11067/11067 [==============================] - 12s 1ms/step - loss: 0.9256 - sparse_categorical_accuracy: 0.5772\n",
      "Epoch 17/40\n",
      "11067/11067 [==============================] - 12s 1ms/step - loss: 0.9244 - sparse_categorical_accuracy: 0.5785\n",
      "Epoch 18/40\n",
      "11067/11067 [==============================] - 12s 1ms/step - loss: 0.9266 - sparse_categorical_accuracy: 0.5753\n",
      "Epoch 19/40\n",
      "11067/11067 [==============================] - 12s 1ms/step - loss: 0.9255 - sparse_categorical_accuracy: 0.5756\n",
      "Epoch 20/40\n",
      "11067/11067 [==============================] - 13s 1ms/step - loss: 0.9249 - sparse_categorical_accuracy: 0.5742\n",
      "Epoch 21/40\n",
      "11067/11067 [==============================] - 13s 1ms/step - loss: 0.9237 - sparse_categorical_accuracy: 0.5774\n",
      "Epoch 22/40\n",
      "11067/11067 [==============================] - 13s 1ms/step - loss: 0.9243 - sparse_categorical_accuracy: 0.5784\n",
      "Epoch 23/40\n",
      "11067/11067 [==============================] - 15s 1ms/step - loss: 0.9239 - sparse_categorical_accuracy: 0.5752\n",
      "Epoch 24/40\n",
      "11067/11067 [==============================] - 13s 1ms/step - loss: 0.9251 - sparse_categorical_accuracy: 0.5748\n",
      "Epoch 25/40\n",
      "11067/11067 [==============================] - 13s 1ms/step - loss: 0.9240 - sparse_categorical_accuracy: 0.5754\n",
      "Epoch 26/40\n",
      "11067/11067 [==============================] - 14s 1ms/step - loss: 0.9250 - sparse_categorical_accuracy: 0.5750\n",
      "Epoch 27/40\n",
      "11067/11067 [==============================] - 14s 1ms/step - loss: 0.9243 - sparse_categorical_accuracy: 0.5778\n",
      "Epoch 28/40\n",
      "11067/11067 [==============================] - 13s 1ms/step - loss: 0.9229 - sparse_categorical_accuracy: 0.5759\n",
      "Epoch 29/40\n",
      "11067/11067 [==============================] - 13s 1ms/step - loss: 0.9240 - sparse_categorical_accuracy: 0.5769\n",
      "Epoch 30/40\n",
      "11067/11067 [==============================] - 14s 1ms/step - loss: 0.9238 - sparse_categorical_accuracy: 0.5757\n",
      "Epoch 31/40\n",
      "11067/11067 [==============================] - 14s 1ms/step - loss: 0.9233 - sparse_categorical_accuracy: 0.5777\n",
      "Epoch 32/40\n",
      "11067/11067 [==============================] - 13s 1ms/step - loss: 0.9235 - sparse_categorical_accuracy: 0.5759\n",
      "Epoch 33/40\n",
      "11067/11067 [==============================] - 14s 1ms/step - loss: 0.9239 - sparse_categorical_accuracy: 0.5774\n",
      "Epoch 34/40\n",
      "11067/11067 [==============================] - 14s 1ms/step - loss: 0.9227 - sparse_categorical_accuracy: 0.5771\n",
      "Epoch 35/40\n",
      "11067/11067 [==============================] - 14s 1ms/step - loss: 0.9238 - sparse_categorical_accuracy: 0.5759\n",
      "Epoch 36/40\n",
      "11067/11067 [==============================] - 13s 1ms/step - loss: 0.9231 - sparse_categorical_accuracy: 0.5786\n",
      "Epoch 37/40\n",
      "11067/11067 [==============================] - 14s 1ms/step - loss: 0.9221 - sparse_categorical_accuracy: 0.5768\n",
      "Epoch 38/40\n",
      "11067/11067 [==============================] - 14s 1ms/step - loss: 0.9226 - sparse_categorical_accuracy: 0.5767\n",
      "Epoch 39/40\n",
      "11067/11067 [==============================] - 13s 1ms/step - loss: 0.9233 - sparse_categorical_accuracy: 0.5784\n",
      "Epoch 40/40\n",
      "11067/11067 [==============================] - 14s 1ms/step - loss: 0.9233 - sparse_categorical_accuracy: 0.5755\n"
     ]
    },
    {
     "data": {
      "text/plain": [
       "<keras.callbacks.History at 0x1a3e8ab0a00>"
      ]
     },
     "execution_count": 22,
     "metadata": {},
     "output_type": "execute_result"
    }
   ],
   "source": [
    "model.fit(X_train,y_train,epochs=40,batch_size=1,verbose=1)"
   ]
  },
  {
   "cell_type": "markdown",
   "id": "477ca1f4",
   "metadata": {},
   "source": [
    "# 7.Evaluation du model sur la data de test"
   ]
  },
  {
   "cell_type": "code",
   "execution_count": 23,
   "id": "2128f3fb",
   "metadata": {},
   "outputs": [
    {
     "name": "stdout",
     "output_type": "stream",
     "text": [
      "173/173 [==============================] - 0s 1ms/step - loss: 0.9342 - sparse_categorical_accuracy: 0.5614\n"
     ]
    }
   ],
   "source": [
    "test_loss, test_accuracy= model.evaluate(X_test,y_test)"
   ]
  },
  {
   "cell_type": "markdown",
   "id": "fa3ca2d1",
   "metadata": {},
   "source": [
    "# 8.Prédiction / Chargement de la data à prédire"
   ]
  },
  {
   "cell_type": "code",
   "execution_count": 24,
   "id": "fa69646c",
   "metadata": {},
   "outputs": [],
   "source": [
    "match_poule=pd.read_csv(\"matchpoulepourcentageranking2.csv\",sep=';')"
   ]
  },
  {
   "cell_type": "code",
   "execution_count": 25,
   "id": "d668a2b0",
   "metadata": {},
   "outputs": [],
   "source": [
    "poule=match_poule"
   ]
  },
  {
   "cell_type": "code",
   "execution_count": 26,
   "id": "1f63d144",
   "metadata": {},
   "outputs": [],
   "source": [
    "poule=poule.drop('winner',axis=1)\n",
    "poule_Pays=match_poule\n"
   ]
  },
  {
   "cell_type": "code",
   "execution_count": 27,
   "id": "d1910c6e",
   "metadata": {},
   "outputs": [],
   "source": [
    "poule=poule.drop('home_team',axis=1)"
   ]
  },
  {
   "cell_type": "code",
   "execution_count": 28,
   "id": "0fca7f32",
   "metadata": {},
   "outputs": [],
   "source": [
    "poule=poule.drop('away_team',axis=1)"
   ]
  },
  {
   "cell_type": "code",
   "execution_count": 29,
   "id": "608507a6",
   "metadata": {},
   "outputs": [],
   "source": [
    "poule['Rang_home_team']=(1.)/(poule['Rang_home_team'])"
   ]
  },
  {
   "cell_type": "code",
   "execution_count": 30,
   "id": "4d41317c",
   "metadata": {},
   "outputs": [],
   "source": [
    "poule['Rang_away_team']=(1.)/(poule['Rang_away_team'])"
   ]
  },
  {
   "cell_type": "code",
   "execution_count": 31,
   "id": "aee77e28",
   "metadata": {},
   "outputs": [],
   "source": [
    "X_pred=poule[['Rang_home_team','Rang_away_team','Host']].values\n"
   ]
  },
  {
   "cell_type": "markdown",
   "id": "d370aa85",
   "metadata": {},
   "source": [
    "# Affichage de la prédiction des matchs de poule"
   ]
  },
  {
   "cell_type": "code",
   "execution_count": 32,
   "id": "2677f073",
   "metadata": {},
   "outputs": [
    {
     "name": "stdout",
     "output_type": "stream",
     "text": [
      "2/2 [==============================] - 0s 2ms/step\n",
      "Pour le match entre Qatar et Ecuador\n",
      "Victoire pour Ecuador \n",
      "\n",
      "Pour le match entre England et Iran\n",
      "Victoire pour England \n",
      "\n",
      "Pour le match entre Senegal et Netherlands\n",
      "Victoire pour Netherlands \n",
      "\n",
      "Pour le match entre United States et Wales\n",
      "Victoire pour United States \n",
      "\n",
      "Pour le match entre Argentina et Saudi Arabia\n",
      "Victoire pour Argentina \n",
      "\n",
      "Pour le match entre Denmark et Tunisia\n",
      "Victoire pour Denmark \n",
      "\n",
      "Pour le match entre Mexico et Poland\n",
      "Victoire pour Mexico \n",
      "\n",
      "Pour le match entre France et Australia\n",
      "Victoire pour France \n",
      "\n",
      "Pour le match entre Morocco et Croatia\n",
      "Victoire pour Croatia \n",
      "\n",
      "Pour le match entre Germany et Japan\n",
      "Victoire pour Germany \n",
      "\n",
      "Pour le match entre Spain et Costa Rica\n",
      "Victoire pour Spain \n",
      "\n",
      "Pour le match entre Belgium et Canada\n",
      "Victoire pour Belgium \n",
      "\n",
      "Pour le match entre Switzerland et Cameroon\n",
      "Victoire pour Switzerland \n",
      "\n",
      "Pour le match entre Uruguay et South Korea\n",
      "Victoire pour Uruguay \n",
      "\n",
      "Pour le match entre Portugal et Ghana\n",
      "Victoire pour Portugal \n",
      "\n",
      "Pour le match entre Brazil et Serbia\n",
      "Victoire pour Brazil \n",
      "\n",
      "Pour le match entre Wales et Iran\n",
      "Victoire pour Wales \n",
      "\n",
      "Pour le match entre Qatar et Senegal\n",
      "Victoire pour Senegal \n",
      "\n",
      "Pour le match entre Netherlands et Ecuador\n",
      "Victoire pour Netherlands \n",
      "\n",
      "Pour le match entre England et United States\n",
      "Victoire pour England \n",
      "\n",
      "Pour le match entre Tunisia et Australia\n",
      "Victoire pour Tunisia \n",
      "\n",
      "Pour le match entre Poland et Saudi Arabia\n",
      "Victoire pour Poland \n",
      "\n",
      "Pour le match entre France et Denmark\n",
      "Victoire pour France \n",
      "\n",
      "Pour le match entre Argentina et Mexico\n",
      "Victoire pour Argentina \n",
      "\n",
      "Pour le match entre Japan et Costa Rica\n",
      "Victoire pour Japan \n",
      "\n",
      "Pour le match entre Belgium et Morocco\n",
      "Victoire pour Belgium \n",
      "\n",
      "Pour le match entre Croatia et Canada\n",
      "Victoire pour Croatia \n",
      "\n",
      "Pour le match entre Spain et Germany\n",
      "Victoire pour Spain \n",
      "\n",
      "Pour le match entre Cameroon et Serbia\n",
      "Victoire pour Serbia \n",
      "\n",
      "Pour le match entre South Korea et Ghana\n",
      "Victoire pour South Korea \n",
      "\n",
      "Pour le match entre Brazil et Switzerland\n",
      "Victoire pour Brazil \n",
      "\n",
      "Pour le match entre Portugal et Uruguay\n",
      "Victoire pour Portugal \n",
      "\n",
      "Pour le match entre Qatar et Netherlands\n",
      "Victoire pour Netherlands \n",
      "\n",
      "Pour le match entre Ecuador et Senegal\n",
      "Victoire pour Senegal \n",
      "\n",
      "Pour le match entre Iran et United States\n",
      "Victoire pour United States \n",
      "\n",
      "Pour le match entre Wales et England\n",
      "Victoire pour England \n",
      "\n",
      "Pour le match entre Tunisia et France\n",
      "Victoire pour France \n",
      "\n",
      "Pour le match entre Australia et Denmark\n",
      "Victoire pour Denmark \n",
      "\n",
      "Pour le match entre Saudi Arabia et Mexico\n",
      "Victoire pour Mexico \n",
      "\n",
      "Pour le match entre Poland et Argentina\n",
      "Victoire pour Argentina \n",
      "\n",
      "Pour le match entre Croatia et Belgium\n",
      "Victoire pour Belgium \n",
      "\n",
      "Pour le match entre Canada et Morocco\n",
      "Victoire pour Morocco \n",
      "\n",
      "Pour le match entre Costa Rica et Germany\n",
      "Victoire pour Germany \n",
      "\n",
      "Pour le match entre Japan et Spain\n",
      "Victoire pour Spain \n",
      "\n",
      "Pour le match entre South Korea et Portugal\n",
      "Victoire pour Portugal \n",
      "\n",
      "Pour le match entre Ghana et Uruguay\n",
      "Victoire pour Uruguay \n",
      "\n",
      "Pour le match entre Cameroon et Brazil\n",
      "Victoire pour Brazil \n",
      "\n",
      "Pour le match entre Serbia et Switzerland\n",
      "Victoire pour Switzerland \n",
      "\n"
     ]
    }
   ],
   "source": [
    "prediction=model.predict(X_pred)\n",
    "i=0\n",
    "\n",
    "for pred in prediction:\n",
    "    print('Pour le match entre',poule_Pays['home_team'][i],'et',poule_Pays['away_team'][i])\n",
    "    if (np.argmax(pred))==2 :\n",
    "\n",
    "        print('Victoire pour',poule_Pays['home_team'][i],'\\n')    \n",
    "\n",
    "\n",
    "    elif (np.argmax(pred))==0:\n",
    "        print('Victoire pour',poule_Pays['away_team'][i],'\\n')\n",
    "\n",
    "    else :\n",
    "        print('Match null\\n')\n",
    "\n",
    "\n",
    "    i=i+1\n"
   ]
  },
  {
   "cell_type": "markdown",
   "id": "3fe51609",
   "metadata": {},
   "source": [
    "# Génération du fichier CSV de la sortie de notre prédiction"
   ]
  },
  {
   "cell_type": "code",
   "execution_count": 33,
   "id": "940de3f8",
   "metadata": {},
   "outputs": [
    {
     "name": "stdout",
     "output_type": "stream",
     "text": [
      "2/2 [==============================] - 0s 2ms/step\n",
      "fichier généré\n"
     ]
    }
   ],
   "source": [
    "prediction=model.predict(X_pred)\n",
    "i=0\n",
    "groupe='0'\n",
    "with open('previsionresultatsmatchdepoule.csv','w') as file:\n",
    "    file.write('Pays1,Pays2,Groupe,0,1,2,Prévision_de_victoire_pour,point_pays1,points_pays2\\n')\n",
    "    for pred in prediction:\n",
    "        #print('Pour le match entre',poule_Pays['home_team'][i],'et',poule_Pays['away_team'][i])\n",
    "        if (np.argmax(pred))==2 :\n",
    "            \n",
    "            #print('Victoire pour',poule_Pays['home_team'][i],'\\n')\n",
    "            if ((poule_Pays['home_team'][i])=='Qatar' ) | ((poule_Pays['home_team'][i])=='Netherlands') | ((poule_Pays['home_team'][i])=='Senegal') | ((poule_Pays['home_team'][i])=='Ecuador'):\n",
    "                groupe='A'                               \n",
    "            elif ((poule_Pays['home_team'][i])=='England' ) | ((poule_Pays['home_team'][i])=='United States') | ((poule_Pays['home_team'][i])=='Iran') | ((poule_Pays['home_team'][i])=='Wales'):\n",
    "                groupe='B'                \n",
    "            elif ((poule_Pays['home_team'][i])=='Argentina' ) | ((poule_Pays['home_team'][i])=='Mexico') | ((poule_Pays['home_team'][i])=='Poland') | ((poule_Pays['home_team'][i])=='Saudi Arabia'):\n",
    "                groupe='C'                \n",
    "            elif ((poule_Pays['home_team'][i])=='France' ) | ((poule_Pays['home_team'][i])=='Denmark') | ((poule_Pays['home_team'][i])=='Tunisia') | ((poule_Pays['home_team'][i])=='Australia'):\n",
    "                groupe='D'                \n",
    "            elif ((poule_Pays['home_team'][i])=='Spain' ) | ((poule_Pays['home_team'][i])=='Germany') | ((poule_Pays['home_team'][i])=='Japan') | ((poule_Pays['home_team'][i])=='Costa Rica'):\n",
    "                groupe='E'                \n",
    "            elif ((poule_Pays['home_team'][i])=='Belgium' ) | ((poule_Pays['home_team'][i])=='Croatia') | ((poule_Pays['home_team'][i])=='Morocco') | ((poule_Pays['home_team'][i])=='Canada'):\n",
    "                groupe='F'                \n",
    "            elif ((poule_Pays['home_team'][i])=='Brazil' ) | ((poule_Pays['home_team'][i])=='Switzerland') | ((poule_Pays['home_team'][i])=='Serbia') | ((poule_Pays['home_team'][i])=='Cameroon'):\n",
    "                groupe='G'                \n",
    "            elif ((poule_Pays['home_team'][i])=='Portugal' ) | ((poule_Pays['home_team'][i])=='Uruguay') | ((poule_Pays['home_team'][i])=='South Korea') | ((poule_Pays['home_team'][i])=='Ghana'):\n",
    "                groupe='H'\n",
    "                        \n",
    "            \n",
    "            file.write(poule_Pays['home_team'][i]+','+poule_Pays['away_team'][i]+','+groupe+','+str(pred[0])+','+str(pred[1])+','+str(pred[2])+','+poule_Pays['home_team'][i]+',3,0\\n')\n",
    "                \n",
    "        \n",
    "        elif (np.argmax(pred))==0:\n",
    "            #print('Victoire pour',poule_Pays['away_team'][i],'\\n')\n",
    "            \n",
    "            if ((poule_Pays['home_team'][i])=='Qatar' ) | ((poule_Pays['home_team'][i])=='Netherlands') | ((poule_Pays['home_team'][i])=='Senegal') | ((poule_Pays['home_team'][i])=='Ecuador'):\n",
    "                groupe='A'                                \n",
    "            elif ((poule_Pays['home_team'][i])=='England' ) | ((poule_Pays['home_team'][i])=='United States') | ((poule_Pays['home_team'][i])=='Iran') | ((poule_Pays['home_team'][i])=='Wales'):\n",
    "                groupe='B'                \n",
    "            elif ((poule_Pays['home_team'][i])=='Argentina' ) | ((poule_Pays['home_team'][i])=='Mexico') | ((poule_Pays['home_team'][i])=='Poland') | ((poule_Pays['home_team'][i])=='Saudi Arabia'):\n",
    "                groupe='C'                \n",
    "            elif ((poule_Pays['home_team'][i])=='France' ) | ((poule_Pays['home_team'][i])=='Denmark') | ((poule_Pays['home_team'][i])=='Tunisia') | ((poule_Pays['home_team'][i])=='Australia'):\n",
    "                groupe='D'                \n",
    "            elif ((poule_Pays['home_team'][i])=='Spain' ) | ((poule_Pays['home_team'][i])=='Germany') | ((poule_Pays['home_team'][i])=='Japan') | ((poule_Pays['home_team'][i])=='Costa Rica'):\n",
    "                groupe='E'                \n",
    "            elif ((poule_Pays['home_team'][i])=='Belgium' ) | ((poule_Pays['home_team'][i])=='Croatia') | ((poule_Pays['home_team'][i])=='Morocco') | ((poule_Pays['home_team'][i])=='Canada'):\n",
    "                groupe='F'                \n",
    "            elif ((poule_Pays['home_team'][i])=='Brazil' ) | ((poule_Pays['home_team'][i])=='Switzerland') | ((poule_Pays['home_team'][i])=='Serbia') | ((poule_Pays['home_team'][i])=='Cameroon'):\n",
    "                groupe='G'                \n",
    "            elif ((poule_Pays['home_team'][i])=='Portugal' ) | ((poule_Pays['home_team'][i])=='Uruguay') | ((poule_Pays['home_team'][i])=='South Korea') | ((poule_Pays['home_team'][i])=='Ghana'):\n",
    "                groupe='H'\n",
    "                \n",
    "                \n",
    "            file.write(poule_Pays['home_team'][i]+','+poule_Pays['away_team'][i]+','+groupe+','+str(pred[0])+','+str(pred[1])+','+str(pred[2])+','+poule_Pays['away_team'][i]+',0,3\\n')\n",
    "            \n",
    "        else :\n",
    "            #print('Match null\\n')\n",
    "            if ((poule_Pays['home_team'][i])=='Qatar' ) | ((poule_Pays['home_team'][i])=='Netherlands') | ((poule_Pays['home_team'][i])=='Senegal') | ((poule_Pays['home_team'][i])=='Ecuador'):\n",
    "                groupe='A'                               \n",
    "            elif ((poule_Pays['home_team'][i])=='England' ) | ((poule_Pays['home_team'][i])=='United States') | ((poule_Pays['home_team'][i])=='Iran') | ((poule_Pays['home_team'][i])=='Wales'):\n",
    "                groupe='B'                \n",
    "            elif ((poule_Pays['home_team'][i])=='Argentina' ) | ((poule_Pays['home_team'][i])=='Mexico') | ((poule_Pays['home_team'][i])=='Poland') | ((poule_Pays['home_team'][i])=='Saudi Arabia'):\n",
    "                groupe='C'                \n",
    "            elif ((poule_Pays['home_team'][i])=='France' ) | ((poule_Pays['home_team'][i])=='Denmark') | ((poule_Pays['home_team'][i])=='Tunisia') | ((poule_Pays['home_team'][i])=='Australia'):\n",
    "                groupe='D'                \n",
    "            elif ((poule_Pays['home_team'][i])=='Spain' ) | ((poule_Pays['home_team'][i])=='Germany') | ((poule_Pays['home_team'][i])=='Japan') | ((poule_Pays['home_team'][i])=='Costa Rica'):\n",
    "                groupe='E'                \n",
    "            elif ((poule_Pays['home_team'][i])=='Belgium' ) | ((poule_Pays['home_team'][i])=='Croatia') | ((poule_Pays['home_team'][i])=='Morocco') | ((poule_Pays['home_team'][i])=='Canada'):\n",
    "                groupe='F'                \n",
    "            elif ((poule_Pays['home_team'][i])=='Brazil' ) | ((poule_Pays['home_team'][i])=='Switzerland') | ((poule_Pays['home_team'][i])=='Serbia') | ((poule_Pays['home_team'][i])=='Cameroon'):\n",
    "                groupe='G'                \n",
    "            elif ((poule_Pays['home_team'][i])=='Portugal' ) | ((poule_Pays['home_team'][i])=='Uruguay') | ((poule_Pays['home_team'][i])=='South Korea') | ((poule_Pays['home_team'][i])=='Ghana'):\n",
    "                groupe='H'\n",
    "                \n",
    "                \n",
    "            file.write(poule_Pays['home_team'][i]+','+poule_Pays['away_team'][i]+','+groupe+','+str(pred[0])+','+str(pred[1])+','+str(pred[2])+','+'Match null'+',1,1\\n')\n",
    "\n",
    "        i=i+1\n",
    "    print('fichier généré')"
   ]
  },
  {
   "cell_type": "markdown",
   "id": "8db96d80",
   "metadata": {},
   "source": [
    "# Génération du Tableau de point de chaque poule"
   ]
  },
  {
   "cell_type": "code",
   "execution_count": 34,
   "id": "212ef588",
   "metadata": {},
   "outputs": [
    {
     "name": "stdout",
     "output_type": "stream",
     "text": [
      "2/2 [==============================] - 0s 2ms/step\n",
      "fichier généré\n"
     ]
    }
   ],
   "source": [
    "prediction=model.predict(X_pred)\n",
    "i=0\n",
    "groupe='0'\n",
    "\n",
    "listepays={'Qatar':[0,'A',0,0],'Brazil':[0,'G',0,0],'Belgium':[0,'F',0,0],'France':[0,'D',0,0],'Argentina':[0,'C',0,0],'England':[0,'B',0,0],\n",
    "           'Spain':[0,'E',0,0],'Portugal':[0,'H',0,0],'Mexico':[0,'C',0,0],'Netherlands':[0,'A',0,0],'Denmark':[0,'D',0,0],'Germany':[0,'E',0,0],\n",
    "           'Uruguay':[0,'H',0,0],'Switzerland':[0,'G',0,0],'United States':[0,'B',0,0],'Croatia':[0,'F',0,0],'Senegal':[0,'A',0,0],\n",
    "           'Iran':[0,'B',0,0],'Japan':[0,'E',0,0],'Morocco':[0,'F',0,0],'Serbia':[0,'G',0,0],'Poland':[0,'C',0,0],'South Korea':[0,'H',0,0],\n",
    "           'Tunisia':[0,'D',0,0],'Cameroon':[0,'G',0,0],'Canada':[0,'F',0,0],'Ecuador':[0,'A',0,0],'Saudi Arabia':[0,'C',0,0],'Ghana':[0,'H',0,0],\n",
    "           'Wales':[0,'B',0,0],'Costa Rica':[0,'E',0,0],'Australia':[0,'D',0,0]     \n",
    "          \n",
    "          }\n",
    "\n",
    "\n",
    "\n",
    "for pred in prediction:\n",
    "    #print('Pour le match entre',poule_Pays['home_team'][i],'et',poule_Pays['away_team'][i])\n",
    "    if (np.argmax(pred))==2 :\n",
    "        listepays[poule_Pays['home_team'][i]][0]=listepays[poule_Pays['home_team'][i]][0]+3\n",
    "        listepays[poule_Pays['home_team'][i]][2]=listepays[poule_Pays['home_team'][i]][2]+pred[2]\n",
    "        listepays[poule_Pays['home_team'][i]][3]=poule_Pays['Rang_home_team'][i]\n",
    "        #print([poule_Pays['home_team'][i]],listepays[poule_Pays['home_team'][i]])\n",
    "\n",
    "\n",
    "\n",
    "    elif (np.argmax(pred))==0:\n",
    "        #print('Victoire pour',poule_Pays['away_team'][i],'\\n')\n",
    "        listepays[poule_Pays['away_team'][i]][0]=listepays[poule_Pays['away_team'][i]][0]+3\n",
    "        listepays[poule_Pays['away_team'][i]][2]=listepays[poule_Pays['away_team'][i]][2]+(pred[0])\n",
    "        listepays[poule_Pays['away_team'][i]][3]=poule_Pays['Rang_away_team'][i]\n",
    "\n",
    "        #print([poule_Pays['home_team'][i]],listepays[poule_Pays['away_team'][i]][0])\n",
    "\n",
    "\n",
    "    else :\n",
    "        listepays[poule_Pays['away_team'][i]][0]=listepays[poule_Pays['away_team'][i]][0]+1\n",
    "        listepays[poule_Pays['away_team'][i]][2]=listepays[poule_Pays['away_team'][i]][2]+(pred[1]/3)\n",
    "        print(listepays[poule_Pays['away_team'][i]][0])\n",
    "        listepays[poule_Pays['home_team'][i]][0]=listepays[poule_Pays['home_team'][i]][0]+1\n",
    "        listepays[poule_Pays['home_team'][i]][2]=listepays[poule_Pays['home_team'][i]][2]+(pred[1]/3)\n",
    "        #print([poule_Pays['home_team'][i]],listepays[poule_Pays['home_team'][i]][0])\n",
    "\n",
    "\n",
    "    i=i+1\n",
    "#print(listepays)\n",
    "        \n",
    "with open('previsionpointpoule.csv','w') as file:\n",
    "    file.write('Pays,Groupe,points,score,rang\\n')\n",
    "    for keys in listepays:\n",
    "        #print(keys)\n",
    "        file.write(keys+','+str(listepays[keys][1])+','+str(listepays[keys][0])+','+str(listepays[keys][2])+','+str(listepays[keys][3])+'\\n')\n",
    "\n",
    "\n",
    "    print('fichier généré')"
   ]
  },
  {
   "cell_type": "code",
   "execution_count": 35,
   "id": "6a15263b",
   "metadata": {},
   "outputs": [],
   "source": [
    "#df2=pd.DataFrame(listepays.keys(),listepays.values(),columns=['Pays3','Pays','test','Paysh','testh'])\n"
   ]
  },
  {
   "cell_type": "code",
   "execution_count": 36,
   "id": "e9c54932",
   "metadata": {},
   "outputs": [],
   "source": [
    "df2=pd.DataFrame(listepays.values(),columns=['Points','groupe','score','rang'])\n"
   ]
  },
  {
   "cell_type": "code",
   "execution_count": 37,
   "id": "3ac1b187",
   "metadata": {},
   "outputs": [],
   "source": [
    "df2['Pays']=pd.DataFrame(listepays.keys(),columns=['Pays'])"
   ]
  },
  {
   "cell_type": "code",
   "execution_count": null,
   "id": "aba3c357",
   "metadata": {},
   "outputs": [],
   "source": []
  },
  {
   "cell_type": "code",
   "execution_count": null,
   "id": "dcd13539",
   "metadata": {},
   "outputs": [],
   "source": []
  },
  {
   "cell_type": "code",
   "execution_count": 38,
   "id": "3e7b403c",
   "metadata": {},
   "outputs": [],
   "source": [
    "groupeA=df2[(df2['groupe']=='A')].sort_values(by='score',ascending=False).head(2)\n",
    "groupeB=df2[(df2['groupe']=='B')].sort_values(by='score',ascending=False).head(2)\n",
    "groupeC=df2[(df2['groupe']=='C')].sort_values(by='score',ascending=False).head(2)\n",
    "groupeD=df2[(df2['groupe']=='D')].sort_values(by='score',ascending=False).head(2)\n",
    "groupeE=df2[(df2['groupe']=='E')].sort_values(by='score',ascending=False).head(2)\n",
    "groupeF=df2[(df2['groupe']=='F')].sort_values(by='score',ascending=False).head(2)\n",
    "groupeG=df2[(df2['groupe']=='G')].sort_values(by='score',ascending=False).head(2)\n",
    "groupeH=df2[(df2['groupe']=='H')].sort_values(by='score',ascending=False).head(2)\n"
   ]
  },
  {
   "cell_type": "code",
   "execution_count": 39,
   "id": "dd51eb0b",
   "metadata": {},
   "outputs": [],
   "source": [
    "dfpoule=pd.DataFrame({'home_team':[],'Rang_home_team':[],'away_team':[],'Rang_away_team':[]})"
   ]
  },
  {
   "cell_type": "code",
   "execution_count": 40,
   "id": "8140f369",
   "metadata": {},
   "outputs": [],
   "source": [
    "df1=pd.DataFrame()\n",
    "df2=pd.DataFrame()"
   ]
  },
  {
   "cell_type": "code",
   "execution_count": 41,
   "id": "5c325073",
   "metadata": {},
   "outputs": [],
   "source": [
    "df1=pd.DataFrame([[groupeA['Pays'].head(1).values[0],groupeA['rang'].head(1).values[0],groupeB['Pays'].tail(1).values[0],groupeB['rang'].tail(1).values[0]]],columns=['home_team','Rang_home_team','away_team','Rang_away_team'])"
   ]
  },
  {
   "cell_type": "code",
   "execution_count": 42,
   "id": "48a39a59",
   "metadata": {},
   "outputs": [],
   "source": [
    "df2=pd.DataFrame([[groupeC['Pays'].head(1).values[0],groupeC['rang'].head(1).values[0],groupeD['Pays'].tail(1).values[0],groupeD['rang'].tail(1).values[0]]],columns=['home_team','Rang_home_team','away_team','Rang_away_team'])"
   ]
  },
  {
   "cell_type": "code",
   "execution_count": 43,
   "id": "47747f33",
   "metadata": {},
   "outputs": [],
   "source": [
    "df3=pd.DataFrame([[groupeE['Pays'].head(1).values[0],groupeE['rang'].head(1).values[0],groupeF['Pays'].tail(1).values[0],groupeF['rang'].tail(1).values[0]]],columns=['home_team','Rang_home_team','away_team','Rang_away_team'])"
   ]
  },
  {
   "cell_type": "code",
   "execution_count": 44,
   "id": "856bf364",
   "metadata": {},
   "outputs": [],
   "source": [
    "df4=pd.DataFrame([[groupeG['Pays'].head(1).values[0],groupeG['rang'].head(1).values[0],groupeH['Pays'].tail(1).values[0],groupeH['rang'].tail(1).values[0]]],columns=['home_team','Rang_home_team','away_team','Rang_away_team'])"
   ]
  },
  {
   "cell_type": "code",
   "execution_count": 45,
   "id": "9892e155",
   "metadata": {},
   "outputs": [],
   "source": [
    "df5=pd.DataFrame([[groupeB['Pays'].head(1).values[0],groupeB['rang'].head(1).values[0],groupeA['Pays'].tail(1).values[0],groupeA['rang'].tail(1).values[0]]],columns=['home_team','Rang_home_team','away_team','Rang_away_team'])"
   ]
  },
  {
   "cell_type": "code",
   "execution_count": 46,
   "id": "9e08782d",
   "metadata": {},
   "outputs": [],
   "source": [
    "df6=pd.DataFrame([[groupeD['Pays'].head(1).values[0],groupeD['rang'].head(1).values[0],groupeC['Pays'].tail(1).values[0],groupeC['rang'].tail(1).values[0]]],columns=['home_team','Rang_home_team','away_team','Rang_away_team'])"
   ]
  },
  {
   "cell_type": "code",
   "execution_count": 47,
   "id": "beca9dbe",
   "metadata": {},
   "outputs": [],
   "source": [
    "df7=pd.DataFrame([[groupeF['Pays'].head(1).values[0],groupeF['rang'].head(1).values[0],groupeE['Pays'].tail(1).values[0],groupeE['rang'].tail(1).values[0]]],columns=['home_team','Rang_home_team','away_team','Rang_away_team'])"
   ]
  },
  {
   "cell_type": "code",
   "execution_count": 48,
   "id": "37e7668a",
   "metadata": {},
   "outputs": [],
   "source": [
    "df8=pd.DataFrame([[groupeH['Pays'].head(1).values[0],groupeH['rang'].head(1).values[0],groupeG['Pays'].tail(1).values[0],groupeG['rang'].tail(1).values[0]]],columns=['home_team','Rang_home_team','away_team','Rang_away_team'])"
   ]
  },
  {
   "cell_type": "code",
   "execution_count": 49,
   "id": "88993c64",
   "metadata": {},
   "outputs": [],
   "source": [
    "dfpoule=pd.concat([dfpoule,df1], ignore_index=True)\n",
    "dfpoule=pd.concat([dfpoule,df2], ignore_index=True)\n",
    "dfpoule=pd.concat([dfpoule,df3], ignore_index=True)\n",
    "dfpoule=pd.concat([dfpoule,df4], ignore_index=True)\n",
    "dfpoule=pd.concat([dfpoule,df5], ignore_index=True)\n",
    "dfpoule=pd.concat([dfpoule,df6], ignore_index=True)\n",
    "dfpoule=pd.concat([dfpoule,df7], ignore_index=True)\n",
    "dfpoule=pd.concat([dfpoule,df8], ignore_index=True)\n"
   ]
  },
  {
   "cell_type": "code",
   "execution_count": 50,
   "id": "7965f98a",
   "metadata": {},
   "outputs": [
    {
     "data": {
      "text/html": [
       "<div>\n",
       "<style scoped>\n",
       "    .dataframe tbody tr th:only-of-type {\n",
       "        vertical-align: middle;\n",
       "    }\n",
       "\n",
       "    .dataframe tbody tr th {\n",
       "        vertical-align: top;\n",
       "    }\n",
       "\n",
       "    .dataframe thead th {\n",
       "        text-align: right;\n",
       "    }\n",
       "</style>\n",
       "<table border=\"1\" class=\"dataframe\">\n",
       "  <thead>\n",
       "    <tr style=\"text-align: right;\">\n",
       "      <th></th>\n",
       "      <th>home_team</th>\n",
       "      <th>Rang_home_team</th>\n",
       "      <th>away_team</th>\n",
       "      <th>Rang_away_team</th>\n",
       "    </tr>\n",
       "  </thead>\n",
       "  <tbody>\n",
       "    <tr>\n",
       "      <th>0</th>\n",
       "      <td>Netherlands</td>\n",
       "      <td>8.0</td>\n",
       "      <td>United States</td>\n",
       "      <td>16.0</td>\n",
       "    </tr>\n",
       "    <tr>\n",
       "      <th>1</th>\n",
       "      <td>Argentina</td>\n",
       "      <td>3.0</td>\n",
       "      <td>Denmark</td>\n",
       "      <td>10.0</td>\n",
       "    </tr>\n",
       "    <tr>\n",
       "      <th>2</th>\n",
       "      <td>Spain</td>\n",
       "      <td>7.0</td>\n",
       "      <td>Croatia</td>\n",
       "      <td>12.0</td>\n",
       "    </tr>\n",
       "    <tr>\n",
       "      <th>3</th>\n",
       "      <td>Brazil</td>\n",
       "      <td>1.0</td>\n",
       "      <td>Uruguay</td>\n",
       "      <td>14.0</td>\n",
       "    </tr>\n",
       "    <tr>\n",
       "      <th>4</th>\n",
       "      <td>England</td>\n",
       "      <td>5.0</td>\n",
       "      <td>Senegal</td>\n",
       "      <td>18.0</td>\n",
       "    </tr>\n",
       "    <tr>\n",
       "      <th>5</th>\n",
       "      <td>France</td>\n",
       "      <td>4.0</td>\n",
       "      <td>Mexico</td>\n",
       "      <td>13.0</td>\n",
       "    </tr>\n",
       "    <tr>\n",
       "      <th>6</th>\n",
       "      <td>Belgium</td>\n",
       "      <td>2.0</td>\n",
       "      <td>Germany</td>\n",
       "      <td>11.0</td>\n",
       "    </tr>\n",
       "    <tr>\n",
       "      <th>7</th>\n",
       "      <td>Portugal</td>\n",
       "      <td>9.0</td>\n",
       "      <td>Switzerland</td>\n",
       "      <td>15.0</td>\n",
       "    </tr>\n",
       "  </tbody>\n",
       "</table>\n",
       "</div>"
      ],
      "text/plain": [
       "     home_team  Rang_home_team      away_team  Rang_away_team\n",
       "0  Netherlands             8.0  United States            16.0\n",
       "1    Argentina             3.0        Denmark            10.0\n",
       "2        Spain             7.0        Croatia            12.0\n",
       "3       Brazil             1.0        Uruguay            14.0\n",
       "4      England             5.0        Senegal            18.0\n",
       "5       France             4.0         Mexico            13.0\n",
       "6      Belgium             2.0        Germany            11.0\n",
       "7     Portugal             9.0    Switzerland            15.0"
      ]
     },
     "execution_count": 50,
     "metadata": {},
     "output_type": "execute_result"
    }
   ],
   "source": [
    "dfpoule"
   ]
  },
  {
   "cell_type": "code",
   "execution_count": 51,
   "id": "e4fadb51",
   "metadata": {},
   "outputs": [],
   "source": [
    "dfpoule.insert(4,'Host',0)"
   ]
  },
  {
   "cell_type": "code",
   "execution_count": 52,
   "id": "36a0767a",
   "metadata": {},
   "outputs": [],
   "source": [
    "match_poule=dfpoule\n",
    "poule=match_poule\n",
    "\n",
    "poule_Pays=match_poule\n",
    "poule=poule.drop('home_team',axis=1)\n",
    "poule=poule.drop('away_team',axis=1)\n",
    "poule['Rang_home_team']=(1.)/(poule['Rang_home_team'])\n",
    "poule['Rang_away_team']=(1.)/(poule['Rang_away_team'])\n",
    "X_pred=poule[['Rang_home_team','Rang_away_team','Host']]"
   ]
  },
  {
   "cell_type": "code",
   "execution_count": null,
   "id": "fb2c9d4c",
   "metadata": {},
   "outputs": [],
   "source": []
  },
  {
   "cell_type": "markdown",
   "id": "60287dd8",
   "metadata": {},
   "source": [
    "# Prédiction des matchs de 8eme"
   ]
  },
  {
   "cell_type": "code",
   "execution_count": 53,
   "id": "70ca9b16",
   "metadata": {},
   "outputs": [],
   "source": [
    "#match_poule=pd.read_csv(\"matchdes8.csv\",sep=';')\n",
    "#poule=match_poule\n",
    "#poule=poule.drop('winner',axis=1)\n",
    "#poule_Pays=match_poule\n",
    "#poule=poule.drop('home_team',axis=1)\n",
    "#poule=poule.drop('away_team',axis=1)\n",
    "#poule['Rang_home_team']=(1.)/(poule['Rang_home_team'])\n",
    "#poule['Rang_away_team']=(1.)/(poule['Rang_away_team'])\n",
    "#X_pred=poule[['Rang_home_team','Rang_away_team','Host']].values"
   ]
  },
  {
   "cell_type": "code",
   "execution_count": 54,
   "id": "4e1966fb",
   "metadata": {},
   "outputs": [],
   "source": [
    "#X_pred"
   ]
  },
  {
   "cell_type": "code",
   "execution_count": 55,
   "id": "5eccf2d3",
   "metadata": {},
   "outputs": [
    {
     "data": {
      "text/plain": [
       "'Netherlands'"
      ]
     },
     "execution_count": 55,
     "metadata": {},
     "output_type": "execute_result"
    }
   ],
   "source": [
    "poule_Pays['home_team'][0]"
   ]
  },
  {
   "cell_type": "markdown",
   "id": "c6675be0",
   "metadata": {},
   "source": [
    "# Affichage des resultats de 8eme"
   ]
  },
  {
   "cell_type": "code",
   "execution_count": 56,
   "id": "0cd8174b",
   "metadata": {},
   "outputs": [
    {
     "name": "stdout",
     "output_type": "stream",
     "text": [
      "1/1 [==============================] - 0s 50ms/step\n",
      "Pour le match entre Netherlands et United States\n",
      "Victoire pour Netherlands \n",
      "\n",
      "Pour le match entre Argentina et Denmark\n",
      "Victoire pour Argentina \n",
      "\n",
      "Pour le match entre Spain et Croatia\n",
      "Victoire pour Spain \n",
      "\n",
      "Pour le match entre Brazil et Uruguay\n",
      "Victoire pour Brazil \n",
      "\n",
      "Pour le match entre England et Senegal\n",
      "Victoire pour England \n",
      "\n",
      "Pour le match entre France et Mexico\n",
      "Victoire pour France \n",
      "\n",
      "Pour le match entre Belgium et Germany\n",
      "Victoire pour Belgium \n",
      "\n",
      "Pour le match entre Portugal et Switzerland\n",
      "Victoire pour Portugal \n",
      "\n"
     ]
    }
   ],
   "source": [
    "prediction=model.predict(X_pred)\n",
    "i=0\n",
    "\n",
    "for pred in prediction:\n",
    "    print('Pour le match entre',poule_Pays['home_team'][i],'et',poule_Pays['away_team'][i])\n",
    "    if (np.argmax(pred))==2 :\n",
    "\n",
    "        print('Victoire pour',poule_Pays['home_team'][i],'\\n')    \n",
    "\n",
    "\n",
    "    elif (np.argmax(pred))==0:\n",
    "        print('Victoire pour',poule_Pays['away_team'][i],'\\n')\n",
    "\n",
    "    else :\n",
    "        print('Match null\\n')\n",
    "\n",
    "\n",
    "    i=i+1"
   ]
  },
  {
   "cell_type": "markdown",
   "id": "491acfeb",
   "metadata": {},
   "source": [
    "# Génération du fichier CSV de la sortie de notre prédiction des 8eme"
   ]
  },
  {
   "cell_type": "code",
   "execution_count": 57,
   "id": "72898785",
   "metadata": {},
   "outputs": [
    {
     "name": "stdout",
     "output_type": "stream",
     "text": [
      "1/1 [==============================] - 0s 20ms/step\n",
      "fichier généré\n"
     ]
    }
   ],
   "source": [
    "prediction=model.predict(X_pred)\n",
    "i=0\n",
    "host=0\n",
    "Rang=0\n",
    "Pays=''\n",
    "\n",
    "\n",
    "\n",
    "quart={'Rang_home_team':[],'Rang_away_team':[],'Host':[],'home_team':[],'away_team':[]}\n",
    "\n",
    "with open('previsionresultats8eme.csv','w') as file:\n",
    "    file.write('Pays1,Pays2,0,1,2,Prévision_de_victoire_pour\\n')\n",
    "    for pred in prediction:\n",
    "        #print('Pour le match entre',poule_Pays['home_team'][i],'et',poule_Pays['away_team'][i])\n",
    "        if (np.argmax(pred))==2 :\n",
    "                          \n",
    "            file.write(poule_Pays['home_team'][i]+','+poule_Pays['away_team'][i]+','+str(pred[0])+','+str(pred[1])+','+str(pred[2])+','+poule_Pays['home_team'][i]+'\\n')\n",
    "            Rang=poule['Rang_home_team'][i]\n",
    "            Pays=poule_Pays['home_team'][i]\n",
    "            if(poule_Pays['home_team'][i]=='Qatar'):\n",
    "                host=1\n",
    "        \n",
    "        elif (np.argmax(pred))==0:\n",
    "      \n",
    "            file.write(poule_Pays['home_team'][i]+','+poule_Pays['away_team'][i]+','+str(pred[0])+','+str(pred[1])+','+str(pred[2])+','+poule_Pays['away_team'][i]+'\\n')\n",
    "            Rang=poule_Pays['Rang_away_team'][i]\n",
    "            Pays=poule_Pays['away_team'][i]\n",
    "        else :\n",
    "                           \n",
    "            file.write(poule_Pays['home_team'][i]+','+poule_Pays['away_team'][i]+','+str(pred[0])+','+str(pred[1])+','+str(pred[2])+','+'Match null'+'\\n')\n",
    "        \n",
    "        \n",
    "        \n",
    "        \n",
    "        if (i%2)==0:\n",
    "            quart['Rang_home_team'].append(Rang)\n",
    "            quart['home_team'].append(Pays)\n",
    "            quart['Host'].append(host)\n",
    "        else:\n",
    "            quart['Rang_away_team'].append(Rang)\n",
    "            quart['away_team'].append(Pays)\n",
    "\n",
    "        host=0\n",
    "\n",
    "        i=i+1\n",
    "    print('fichier généré')"
   ]
  },
  {
   "cell_type": "code",
   "execution_count": 58,
   "id": "9011df7e",
   "metadata": {},
   "outputs": [],
   "source": [
    "def affichage_prediction(niv):\n",
    "    dfniv=pd.DataFrame(data=niv)\n",
    "    X_pred2=dfniv[['Rang_home_team','Rang_away_team','Host']].values\n",
    "    prediction=model.predict(X_pred2)\n",
    "\n",
    "\n",
    "    i=0\n",
    "\n",
    "    for pred in prediction:\n",
    "        print('Pour le match entre',niv['home_team'][i],'et',niv['away_team'][i])\n",
    "        if (np.argmax(pred))==2 :\n",
    "\n",
    "            print('Victoire pour',niv['home_team'][i],'\\n')    \n",
    "\n",
    "\n",
    "        elif (np.argmax(pred))==0:\n",
    "            print('Victoire pour',niv['away_team'][i],'\\n')\n",
    "\n",
    "        else :\n",
    "            print('Match null\\n')\n",
    "        \n",
    "\n",
    "        i=i+1\n",
    "    return(prediction)"
   ]
  },
  {
   "cell_type": "code",
   "execution_count": 59,
   "id": "d2901bac",
   "metadata": {},
   "outputs": [],
   "source": [
    "def generation_csv(status,titre,prediction):\n",
    "    dfstatus=pd.DataFrame(data=status)\n",
    "    \n",
    "\n",
    "\n",
    "    i=0\n",
    "    host=0\n",
    "    Rang=0\n",
    "    Pays=''\n",
    "\n",
    "\n",
    "\n",
    "    status2={'Rang_home_team':[],'Rang_away_team':[],'Host':[],'home_team':[],'away_team':[]}\n",
    "\n",
    "    with open(f'previsionresultat{titre}.csv','w') as file:\n",
    "        file.write('Pays1,Pays2,0,1,2,Prévision_de_victoire_pour\\n')\n",
    "        for pred in prediction:\n",
    "\n",
    "            if (np.argmax(pred))==2 :\n",
    "\n",
    "                file.write(status['home_team'][i]+','+status['away_team'][i]+','+str(pred[0])+','+str(pred[1])+','+str(pred[2])+','+status['home_team'][i]+'\\n')\n",
    "                Rang=status['Rang_home_team'][i]\n",
    "                Pays=status['home_team'][i]\n",
    "                if(status['home_team'][i]=='Qatar'):\n",
    "                    host=1\n",
    "\n",
    "            elif (np.argmax(pred))==0:\n",
    "\n",
    "                file.write(status['home_team'][i]+','+status['away_team'][i]+','+str(pred[0])+','+str(pred[1])+','+str(pred[2])+','+status['away_team'][i]+'\\n')\n",
    "                Rang=status['Rang_away_team'][i]\n",
    "                Pays=status['away_team'][i]\n",
    "            else :\n",
    "\n",
    "                file.write(status['home_team'][i]+','+status['away_team'][i]+','+str(pred[0])+','+str(pred[1])+','+str(pred[2])+','+'Match null'+'\\n')\n",
    "\n",
    "\n",
    "\n",
    "\n",
    "            if (i%2)==0:\n",
    "                status2['Rang_home_team'].append(Rang)\n",
    "                status2['home_team'].append(Pays)\n",
    "                status2['Host'].append(host)\n",
    "            else:\n",
    "                status2['Rang_away_team'].append(Rang)\n",
    "                status2['away_team'].append(Pays)\n",
    "\n",
    "            host=0\n",
    "\n",
    "            i=i+1\n",
    "        print('fichier généré')\n",
    "        return (status2)\n"
   ]
  },
  {
   "cell_type": "markdown",
   "id": "e80dbaca",
   "metadata": {},
   "source": [
    "# Affichage de la prédiction des quarts de finale"
   ]
  },
  {
   "cell_type": "code",
   "execution_count": 60,
   "id": "a4feef58",
   "metadata": {},
   "outputs": [
    {
     "name": "stdout",
     "output_type": "stream",
     "text": [
      "1/1 [==============================] - 0s 19ms/step\n",
      "Pour le match entre Netherlands et Argentina\n",
      "Victoire pour Argentina \n",
      "\n",
      "Pour le match entre Spain et Brazil\n",
      "Victoire pour Brazil \n",
      "\n",
      "Pour le match entre England et France\n",
      "Victoire pour France \n",
      "\n",
      "Pour le match entre Belgium et Portugal\n",
      "Victoire pour Belgium \n",
      "\n"
     ]
    }
   ],
   "source": [
    "predictionquart=affichage_prediction(quart)"
   ]
  },
  {
   "cell_type": "markdown",
   "id": "017581ac",
   "metadata": {},
   "source": [
    "# Génération du fichier CSV des quarts de finale"
   ]
  },
  {
   "cell_type": "code",
   "execution_count": 61,
   "id": "c2842bb8",
   "metadata": {},
   "outputs": [
    {
     "name": "stdout",
     "output_type": "stream",
     "text": [
      "fichier généré\n"
     ]
    }
   ],
   "source": [
    "demi=generation_csv(quart,'quart',predictionquart)"
   ]
  },
  {
   "cell_type": "markdown",
   "id": "db60a698",
   "metadata": {},
   "source": [
    "# Affichage de la prédiction des demie-finales"
   ]
  },
  {
   "cell_type": "code",
   "execution_count": 62,
   "id": "148afa90",
   "metadata": {},
   "outputs": [
    {
     "name": "stdout",
     "output_type": "stream",
     "text": [
      "1/1 [==============================] - 0s 20ms/step\n",
      "Pour le match entre Argentina et Brazil\n",
      "Victoire pour Brazil \n",
      "\n",
      "Pour le match entre France et Belgium\n",
      "Victoire pour Belgium \n",
      "\n"
     ]
    }
   ],
   "source": [
    "predictiondemi=affichage_prediction(demi)"
   ]
  },
  {
   "cell_type": "markdown",
   "id": "a3fb873b",
   "metadata": {},
   "source": [
    "# Génération du fichier CSV pour les demie-finales"
   ]
  },
  {
   "cell_type": "code",
   "execution_count": 63,
   "id": "0830e04b",
   "metadata": {},
   "outputs": [
    {
     "name": "stdout",
     "output_type": "stream",
     "text": [
      "fichier généré\n"
     ]
    }
   ],
   "source": [
    "final=generation_csv(demi,'demi',predictiondemi)"
   ]
  },
  {
   "cell_type": "markdown",
   "id": "499d7a53",
   "metadata": {},
   "source": [
    "# Affichage de la prédiction pour la finale"
   ]
  },
  {
   "cell_type": "code",
   "execution_count": 64,
   "id": "40d9fab9",
   "metadata": {},
   "outputs": [
    {
     "name": "stdout",
     "output_type": "stream",
     "text": [
      "1/1 [==============================] - 0s 19ms/step\n",
      "Pour le match entre Brazil et Belgium\n",
      "Victoire pour Belgium \n",
      "\n"
     ]
    }
   ],
   "source": [
    "predictionfinal=affichage_prediction(final)"
   ]
  },
  {
   "cell_type": "markdown",
   "id": "b722a9a7",
   "metadata": {},
   "source": [
    "# Génération du fichier CSV de la finale"
   ]
  },
  {
   "cell_type": "code",
   "execution_count": 92,
   "id": "d870c5aa",
   "metadata": {},
   "outputs": [
    {
     "name": "stdout",
     "output_type": "stream",
     "text": [
      "fichier généré\n"
     ]
    }
   ],
   "source": [
    "vainqueur=generation_csv(final,'final',predictionfinal)"
   ]
  },
  {
   "cell_type": "code",
   "execution_count": 93,
   "id": "9e4ba5ab",
   "metadata": {},
   "outputs": [
    {
     "name": "stdout",
     "output_type": "stream",
     "text": [
      "Le vainqueur de la Coupe du monde sera :  Belgium\n"
     ]
    }
   ],
   "source": [
    "print('Le vainqueur de la Coupe du monde sera : ',vainqueur['home_team'][0])"
   ]
  },
  {
   "cell_type": "code",
   "execution_count": null,
   "id": "839bda1f",
   "metadata": {},
   "outputs": [],
   "source": []
  },
  {
   "cell_type": "code",
   "execution_count": null,
   "id": "2bf9e24a",
   "metadata": {},
   "outputs": [],
   "source": []
  },
  {
   "cell_type": "code",
   "execution_count": null,
   "id": "1a2b0074",
   "metadata": {},
   "outputs": [],
   "source": []
  },
  {
   "cell_type": "code",
   "execution_count": null,
   "id": "0a8eb9e5",
   "metadata": {},
   "outputs": [],
   "source": []
  },
  {
   "cell_type": "code",
   "execution_count": null,
   "id": "def76705",
   "metadata": {},
   "outputs": [],
   "source": []
  },
  {
   "cell_type": "code",
   "execution_count": null,
   "id": "77dd29d3",
   "metadata": {},
   "outputs": [],
   "source": []
  },
  {
   "cell_type": "code",
   "execution_count": null,
   "id": "b5e2e4b1",
   "metadata": {},
   "outputs": [],
   "source": []
  },
  {
   "cell_type": "code",
   "execution_count": null,
   "id": "fd5e6f67",
   "metadata": {},
   "outputs": [],
   "source": []
  },
  {
   "cell_type": "code",
   "execution_count": null,
   "id": "b5d712a8",
   "metadata": {},
   "outputs": [],
   "source": []
  },
  {
   "cell_type": "code",
   "execution_count": null,
   "id": "645bff3e",
   "metadata": {},
   "outputs": [],
   "source": []
  },
  {
   "cell_type": "code",
   "execution_count": null,
   "id": "a9d11892",
   "metadata": {},
   "outputs": [],
   "source": []
  },
  {
   "cell_type": "code",
   "execution_count": null,
   "id": "b355a0aa",
   "metadata": {},
   "outputs": [],
   "source": []
  },
  {
   "cell_type": "code",
   "execution_count": null,
   "id": "4d78df07",
   "metadata": {},
   "outputs": [],
   "source": []
  },
  {
   "cell_type": "code",
   "execution_count": null,
   "id": "77c0bf80",
   "metadata": {},
   "outputs": [],
   "source": []
  },
  {
   "cell_type": "code",
   "execution_count": null,
   "id": "ddf55c26",
   "metadata": {},
   "outputs": [],
   "source": []
  },
  {
   "cell_type": "code",
   "execution_count": null,
   "id": "cc4c8233",
   "metadata": {},
   "outputs": [],
   "source": []
  },
  {
   "cell_type": "code",
   "execution_count": null,
   "id": "386e7300",
   "metadata": {},
   "outputs": [],
   "source": []
  },
  {
   "cell_type": "code",
   "execution_count": null,
   "id": "4a0fad76",
   "metadata": {},
   "outputs": [],
   "source": []
  }
 ],
 "metadata": {
  "kernelspec": {
   "display_name": "Python 3",
   "language": "python",
   "name": "python3"
  },
  "language_info": {
   "codemirror_mode": {
    "name": "ipython",
    "version": 3
   },
   "file_extension": ".py",
   "mimetype": "text/x-python",
   "name": "python",
   "nbconvert_exporter": "python",
   "pygments_lexer": "ipython3",
   "version": "3.8.8"
  }
 },
 "nbformat": 4,
 "nbformat_minor": 5
}
