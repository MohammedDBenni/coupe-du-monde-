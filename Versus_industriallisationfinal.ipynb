{
 "cells": [
  {
   "cell_type": "code",
   "execution_count": 1,
   "id": "750b01d3",
   "metadata": {},
   "outputs": [],
   "source": [
    "import numpy as np\n",
    "import pandas as pd\n",
    "import tensorflow as tf\n",
    "import matplotlib.pyplot as plt\n",
    "\n",
    "from sklearn.preprocessing import StandardScaler\n",
    "from sklearn.model_selection import train_test_split\n",
    "from tensorflow.keras.models import Sequential\n",
    "from tensorflow.keras.layers import Dense,Activation\n",
    "from sklearn.preprocessing import MinMaxScaler"
   ]
  },
  {
   "cell_type": "markdown",
   "id": "5e4d84fa",
   "metadata": {},
   "source": [
    "# Phase 1 : entraînement"
   ]
  },
  {
   "cell_type": "code",
   "execution_count": 2,
   "id": "44504999",
   "metadata": {},
   "outputs": [],
   "source": [
    "versus=pd.read_csv(\"matchfiltreavecpourcentageranking2.csv\",sep=';')"
   ]
  },
  {
   "cell_type": "code",
   "execution_count": 3,
   "id": "838dd0d0",
   "metadata": {},
   "outputs": [],
   "source": [
    "#versus"
   ]
  },
  {
   "cell_type": "code",
   "execution_count": 4,
   "id": "f7692c0f",
   "metadata": {},
   "outputs": [],
   "source": [
    "versus=versus.drop('home_score',axis=1)"
   ]
  },
  {
   "cell_type": "code",
   "execution_count": 5,
   "id": "ddad8c06",
   "metadata": {},
   "outputs": [],
   "source": [
    "versus=versus.drop('away_score',axis=1)"
   ]
  },
  {
   "cell_type": "code",
   "execution_count": 6,
   "id": "bb568474",
   "metadata": {},
   "outputs": [],
   "source": [
    "versus=versus.drop('home_team',axis=1)"
   ]
  },
  {
   "cell_type": "code",
   "execution_count": 7,
   "id": "6812a8da",
   "metadata": {},
   "outputs": [],
   "source": [
    "versus=versus.drop('away_team',axis=1)"
   ]
  },
  {
   "cell_type": "code",
   "execution_count": 8,
   "id": "f4dbf683",
   "metadata": {},
   "outputs": [],
   "source": [
    "#versus"
   ]
  },
  {
   "cell_type": "code",
   "execution_count": 9,
   "id": "af1d1191",
   "metadata": {},
   "outputs": [],
   "source": [
    "versus.dropna(axis=0,inplace=True)"
   ]
  },
  {
   "cell_type": "code",
   "execution_count": 10,
   "id": "5c05517f",
   "metadata": {},
   "outputs": [],
   "source": [
    "versus['Rang_home_team']=(1.)/(versus['Rang_home_team'])"
   ]
  },
  {
   "cell_type": "code",
   "execution_count": 11,
   "id": "ae7ffc5a",
   "metadata": {},
   "outputs": [],
   "source": [
    "versus['Rang_away_team']=(1.)/(versus['Rang_away_team'])"
   ]
  },
  {
   "cell_type": "code",
   "execution_count": 12,
   "id": "cff6447b",
   "metadata": {},
   "outputs": [],
   "source": [
    "versus=versus[versus['tournament']==1]"
   ]
  },
  {
   "cell_type": "code",
   "execution_count": 13,
   "id": "9b97beed",
   "metadata": {},
   "outputs": [
    {
     "data": {
      "text/html": [
       "<div>\n",
       "<style scoped>\n",
       "    .dataframe tbody tr th:only-of-type {\n",
       "        vertical-align: middle;\n",
       "    }\n",
       "\n",
       "    .dataframe tbody tr th {\n",
       "        vertical-align: top;\n",
       "    }\n",
       "\n",
       "    .dataframe thead th {\n",
       "        text-align: right;\n",
       "    }\n",
       "</style>\n",
       "<table border=\"1\" class=\"dataframe\">\n",
       "  <thead>\n",
       "    <tr style=\"text-align: right;\">\n",
       "      <th></th>\n",
       "      <th>date</th>\n",
       "      <th>tournament</th>\n",
       "      <th>winner</th>\n",
       "      <th>phase_final</th>\n",
       "      <th>home_team_pourcentage_victoire</th>\n",
       "      <th>home_team_but_mis</th>\n",
       "      <th>home_team_but_enc</th>\n",
       "      <th>away_team_pourcentage_victoire</th>\n",
       "      <th>away_team_but_mis</th>\n",
       "      <th>away_team_but_enc</th>\n",
       "      <th>Rang_home_team</th>\n",
       "      <th>Rang_away_team</th>\n",
       "      <th>Host</th>\n",
       "    </tr>\n",
       "  </thead>\n",
       "  <tbody>\n",
       "    <tr>\n",
       "      <th>13493</th>\n",
       "      <td>1994</td>\n",
       "      <td>1</td>\n",
       "      <td>2</td>\n",
       "      <td>0</td>\n",
       "      <td>71.43</td>\n",
       "      <td>2.2</td>\n",
       "      <td>0.9</td>\n",
       "      <td>27.03</td>\n",
       "      <td>1.2</td>\n",
       "      <td>1.2</td>\n",
       "      <td>1.000000</td>\n",
       "      <td>0.023256</td>\n",
       "      <td>0.0</td>\n",
       "    </tr>\n",
       "    <tr>\n",
       "      <th>13494</th>\n",
       "      <td>1994</td>\n",
       "      <td>1</td>\n",
       "      <td>1</td>\n",
       "      <td>0</td>\n",
       "      <td>73.68</td>\n",
       "      <td>2.2</td>\n",
       "      <td>0.7</td>\n",
       "      <td>45.71</td>\n",
       "      <td>1.7</td>\n",
       "      <td>0.8</td>\n",
       "      <td>0.200000</td>\n",
       "      <td>0.027027</td>\n",
       "      <td>0.0</td>\n",
       "    </tr>\n",
       "    <tr>\n",
       "      <th>13495</th>\n",
       "      <td>1994</td>\n",
       "      <td>1</td>\n",
       "      <td>0</td>\n",
       "      <td>0</td>\n",
       "      <td>53.33</td>\n",
       "      <td>1.5</td>\n",
       "      <td>0.5</td>\n",
       "      <td>52.17</td>\n",
       "      <td>1.7</td>\n",
       "      <td>1.1</td>\n",
       "      <td>0.058824</td>\n",
       "      <td>0.142857</td>\n",
       "      <td>0.0</td>\n",
       "    </tr>\n",
       "    <tr>\n",
       "      <th>13496</th>\n",
       "      <td>1994</td>\n",
       "      <td>1</td>\n",
       "      <td>0</td>\n",
       "      <td>0</td>\n",
       "      <td>70.59</td>\n",
       "      <td>1.9</td>\n",
       "      <td>0.6</td>\n",
       "      <td>66.67</td>\n",
       "      <td>1.8</td>\n",
       "      <td>0.8</td>\n",
       "      <td>0.250000</td>\n",
       "      <td>0.071429</td>\n",
       "      <td>0.0</td>\n",
       "    </tr>\n",
       "    <tr>\n",
       "      <th>13497</th>\n",
       "      <td>1994</td>\n",
       "      <td>1</td>\n",
       "      <td>1</td>\n",
       "      <td>0</td>\n",
       "      <td>29.09</td>\n",
       "      <td>1.3</td>\n",
       "      <td>1.2</td>\n",
       "      <td>65.00</td>\n",
       "      <td>1.7</td>\n",
       "      <td>0.6</td>\n",
       "      <td>0.043478</td>\n",
       "      <td>0.083333</td>\n",
       "      <td>1.0</td>\n",
       "    </tr>\n",
       "    <tr>\n",
       "      <th>...</th>\n",
       "      <td>...</td>\n",
       "      <td>...</td>\n",
       "      <td>...</td>\n",
       "      <td>...</td>\n",
       "      <td>...</td>\n",
       "      <td>...</td>\n",
       "      <td>...</td>\n",
       "      <td>...</td>\n",
       "      <td>...</td>\n",
       "      <td>...</td>\n",
       "      <td>...</td>\n",
       "      <td>...</td>\n",
       "      <td>...</td>\n",
       "    </tr>\n",
       "    <tr>\n",
       "      <th>27719</th>\n",
       "      <td>2018</td>\n",
       "      <td>1</td>\n",
       "      <td>0</td>\n",
       "      <td>1</td>\n",
       "      <td>28.57</td>\n",
       "      <td>1.4</td>\n",
       "      <td>1.5</td>\n",
       "      <td>40.91</td>\n",
       "      <td>1.0</td>\n",
       "      <td>1.2</td>\n",
       "      <td>0.014286</td>\n",
       "      <td>0.050000</td>\n",
       "      <td>1.0</td>\n",
       "    </tr>\n",
       "    <tr>\n",
       "      <th>27720</th>\n",
       "      <td>2018</td>\n",
       "      <td>1</td>\n",
       "      <td>2</td>\n",
       "      <td>1</td>\n",
       "      <td>59.09</td>\n",
       "      <td>1.9</td>\n",
       "      <td>1.0</td>\n",
       "      <td>70.00</td>\n",
       "      <td>2.8</td>\n",
       "      <td>1.0</td>\n",
       "      <td>0.142857</td>\n",
       "      <td>0.333333</td>\n",
       "      <td>0.0</td>\n",
       "    </tr>\n",
       "    <tr>\n",
       "      <th>27721</th>\n",
       "      <td>2018</td>\n",
       "      <td>1</td>\n",
       "      <td>2</td>\n",
       "      <td>1</td>\n",
       "      <td>40.91</td>\n",
       "      <td>1.0</td>\n",
       "      <td>1.2</td>\n",
       "      <td>60.00</td>\n",
       "      <td>1.5</td>\n",
       "      <td>0.7</td>\n",
       "      <td>0.050000</td>\n",
       "      <td>0.083333</td>\n",
       "      <td>0.0</td>\n",
       "    </tr>\n",
       "    <tr>\n",
       "      <th>27722</th>\n",
       "      <td>2018</td>\n",
       "      <td>1</td>\n",
       "      <td>2</td>\n",
       "      <td>1</td>\n",
       "      <td>70.00</td>\n",
       "      <td>2.8</td>\n",
       "      <td>1.0</td>\n",
       "      <td>60.00</td>\n",
       "      <td>1.5</td>\n",
       "      <td>0.7</td>\n",
       "      <td>0.333333</td>\n",
       "      <td>0.083333</td>\n",
       "      <td>0.0</td>\n",
       "    </tr>\n",
       "    <tr>\n",
       "      <th>27723</th>\n",
       "      <td>2018</td>\n",
       "      <td>1</td>\n",
       "      <td>2</td>\n",
       "      <td>1</td>\n",
       "      <td>59.09</td>\n",
       "      <td>1.9</td>\n",
       "      <td>1.0</td>\n",
       "      <td>40.91</td>\n",
       "      <td>1.0</td>\n",
       "      <td>1.2</td>\n",
       "      <td>0.142857</td>\n",
       "      <td>0.050000</td>\n",
       "      <td>0.0</td>\n",
       "    </tr>\n",
       "  </tbody>\n",
       "</table>\n",
       "<p>426 rows × 13 columns</p>\n",
       "</div>"
      ],
      "text/plain": [
       "       date  tournament  winner  phase_final  home_team_pourcentage_victoire  \\\n",
       "13493  1994           1       2            0                           71.43   \n",
       "13494  1994           1       1            0                           73.68   \n",
       "13495  1994           1       0            0                           53.33   \n",
       "13496  1994           1       0            0                           70.59   \n",
       "13497  1994           1       1            0                           29.09   \n",
       "...     ...         ...     ...          ...                             ...   \n",
       "27719  2018           1       0            1                           28.57   \n",
       "27720  2018           1       2            1                           59.09   \n",
       "27721  2018           1       2            1                           40.91   \n",
       "27722  2018           1       2            1                           70.00   \n",
       "27723  2018           1       2            1                           59.09   \n",
       "\n",
       "       home_team_but_mis  home_team_but_enc  away_team_pourcentage_victoire  \\\n",
       "13493                2.2                0.9                           27.03   \n",
       "13494                2.2                0.7                           45.71   \n",
       "13495                1.5                0.5                           52.17   \n",
       "13496                1.9                0.6                           66.67   \n",
       "13497                1.3                1.2                           65.00   \n",
       "...                  ...                ...                             ...   \n",
       "27719                1.4                1.5                           40.91   \n",
       "27720                1.9                1.0                           70.00   \n",
       "27721                1.0                1.2                           60.00   \n",
       "27722                2.8                1.0                           60.00   \n",
       "27723                1.9                1.0                           40.91   \n",
       "\n",
       "       away_team_but_mis  away_team_but_enc  Rang_home_team  Rang_away_team  \\\n",
       "13493                1.2                1.2        1.000000        0.023256   \n",
       "13494                1.7                0.8        0.200000        0.027027   \n",
       "13495                1.7                1.1        0.058824        0.142857   \n",
       "13496                1.8                0.8        0.250000        0.071429   \n",
       "13497                1.7                0.6        0.043478        0.083333   \n",
       "...                  ...                ...             ...             ...   \n",
       "27719                1.0                1.2        0.014286        0.050000   \n",
       "27720                2.8                1.0        0.142857        0.333333   \n",
       "27721                1.5                0.7        0.050000        0.083333   \n",
       "27722                1.5                0.7        0.333333        0.083333   \n",
       "27723                1.0                1.2        0.142857        0.050000   \n",
       "\n",
       "       Host  \n",
       "13493   0.0  \n",
       "13494   0.0  \n",
       "13495   0.0  \n",
       "13496   0.0  \n",
       "13497   1.0  \n",
       "...     ...  \n",
       "27719   1.0  \n",
       "27720   0.0  \n",
       "27721   0.0  \n",
       "27722   0.0  \n",
       "27723   0.0  \n",
       "\n",
       "[426 rows x 13 columns]"
      ]
     },
     "execution_count": 13,
     "metadata": {},
     "output_type": "execute_result"
    }
   ],
   "source": [
    "versus"
   ]
  },
  {
   "cell_type": "code",
   "execution_count": 14,
   "id": "2fb9b480",
   "metadata": {},
   "outputs": [],
   "source": [
    "#Remplacement les strings par des nombres sinon impossible a traiter par l'algorythme\n",
    "#versus['home_team'].replace([\"Brazil\",\"Germany\",\"Italy\",\"Argentina\",\"France\",\"England\",\"Spain\",\"Netherlands\",\"Uruguay\",\"Sweden\",\"Belgium\",\"Russia\",\"Serbia\",\"Mexico\",\"Poland\",\"Hungary\",\"Portugal\",\"Switzerland\",\"Czech Republic\",\"Austria\",\"Chile\",\"Croatia\",\"Denmark\",\"Paraguay\",\"Colombia\",\"United States\",\"Romania\",\"South Korea\",\"Nigeria\",\"Japan\",\"Costa Rica\",\"Scotland\",\"Cameroon\",\"Peru\",\"Bulgaria\",\"Turkey\",\"Ghana\",\"Republic of Ireland\",\"Northern Ireland\",\"Ecuador\",\"Senegal\",\"Algeria\",\"Morocco\",\"Saudi Arabia\",\"Ivory Coast\",\"South Africa\",\"Tunisia\",\"Iran\",\"Australia\",\"Norway\",\"Greece\",\"Ukraine\",\"Wales\",\"Slovakia\",\"Slovenia\",\"Cuba\",\"Bosnia and Herzegovina\",\"Jamaica\",\"New Zealand\",\"Honduras\",\"Angola\",\"Israel\",\"Egypt\",\"Iceland\",\"North Korea\",\"Kuwait\",\"Trinidad and Tobago\",\"Bolivia\",\"Iraq\",\"Togo\",\"Canada\",\"Indonesia\",\"Panama\",\"United Arab Emirates\",\"China PR\",\"Haiti\",\"Congo DR\",\"El Salvador\",\"Czechoslovakia\", \"Yugoslavia\",'Qatar','Autre pays'],range(82),inplace=True)"
   ]
  },
  {
   "cell_type": "code",
   "execution_count": 15,
   "id": "30744265",
   "metadata": {},
   "outputs": [],
   "source": [
    "#versus['away_team'].replace([\"Brazil\",\"Germany\",\"Italy\",\"Argentina\",\"France\",\"England\",\"Spain\",\"Netherlands\",\"Uruguay\",\"Sweden\",\"Belgium\",\"Russia\",\"Serbia\",\"Mexico\",\"Poland\",\"Hungary\",\"Portugal\",\"Switzerland\",\"Czech Republic\",\"Austria\",\"Chile\",\"Croatia\",\"Denmark\",\"Paraguay\",\"Colombia\",\"United States\",\"Romania\",\"South Korea\",\"Nigeria\",\"Japan\",\"Costa Rica\",\"Scotland\",\"Cameroon\",\"Peru\",\"Bulgaria\",\"Turkey\",\"Ghana\",\"Republic of Ireland\",\"Northern Ireland\",\"Ecuador\",\"Senegal\",\"Algeria\",\"Morocco\",\"Saudi Arabia\",\"Ivory Coast\",\"South Africa\",\"Tunisia\",\"Iran\",\"Australia\",\"Norway\",\"Greece\",\"Ukraine\",\"Wales\",\"Slovakia\",\"Slovenia\",\"Cuba\",\"Bosnia and Herzegovina\",\"Jamaica\",\"New Zealand\",\"Honduras\",\"Angola\",\"Israel\",\"Egypt\",\"Iceland\",\"North Korea\",\"Kuwait\",\"Trinidad and Tobago\",\"Bolivia\",\"Iraq\",\"Togo\",\"Canada\",\"Indonesia\",\"Panama\",\"United Arab Emirates\",\"China PR\",\"Haiti\",\"Congo DR\",\"El Salvador\",\"Czechoslovakia\", \"Yugoslavia\",'Qatar','Autre pays'],range(82),inplace=True)"
   ]
  },
  {
   "cell_type": "code",
   "execution_count": 16,
   "id": "b1829cb6",
   "metadata": {},
   "outputs": [],
   "source": [
    "#versus.head(20)"
   ]
  },
  {
   "cell_type": "code",
   "execution_count": 17,
   "id": "c765306b",
   "metadata": {},
   "outputs": [],
   "source": [
    "#Met y sous forme d'un tableau\n",
    "y=versus[['winner']].values\n"
   ]
  },
  {
   "cell_type": "code",
   "execution_count": 18,
   "id": "38459479",
   "metadata": {},
   "outputs": [],
   "source": [
    "#y"
   ]
  },
  {
   "cell_type": "code",
   "execution_count": 19,
   "id": "1c992ef6",
   "metadata": {},
   "outputs": [],
   "source": [
    "#Met X sous forme d'un tableau\n",
    "X=versus[['Rang_home_team','Rang_away_team','Host']].values\n",
    "#X.shape"
   ]
  },
  {
   "cell_type": "code",
   "execution_count": 20,
   "id": "d8b85799",
   "metadata": {},
   "outputs": [],
   "source": [
    "#Normalisation"
   ]
  },
  {
   "cell_type": "code",
   "execution_count": 21,
   "id": "e5586b9a",
   "metadata": {},
   "outputs": [],
   "source": [
    "#sc=MinMaxScaler(feature_range=(0,1))\n",
    "#y_scaled=sc.fit_transform(y)\n",
    "#y_scaled"
   ]
  },
  {
   "cell_type": "code",
   "execution_count": 22,
   "id": "26e99095",
   "metadata": {},
   "outputs": [],
   "source": [
    "\n",
    "#X_scaled=sc.fit_transform(X)\n",
    "#X_scaled"
   ]
  },
  {
   "cell_type": "code",
   "execution_count": 23,
   "id": "ec424045",
   "metadata": {},
   "outputs": [],
   "source": [
    "#X_train,X_test,Y_train,Y_test=train_test_split(X_scaled,y_scaled,test_size=0.3,random_state=0)  #pour utiliser la version normalisé\n",
    "X_train,X_test,Y_train,Y_test=train_test_split(X,y,test_size=0.2,random_state=0)"
   ]
  },
  {
   "cell_type": "code",
   "execution_count": 24,
   "id": "0bb4e65f",
   "metadata": {},
   "outputs": [
    {
     "name": "stdout",
     "output_type": "stream",
     "text": [
      "Model: \"sequential\"\n",
      "_________________________________________________________________\n",
      " Layer (type)                Output Shape              Param #   \n",
      "=================================================================\n",
      " dense (Dense)               (None, 32)                128       \n",
      "                                                                 \n",
      " activation (Activation)     (None, 32)                0         \n",
      "                                                                 \n",
      " dense_1 (Dense)             (None, 3)                 99        \n",
      "                                                                 \n",
      " activation_1 (Activation)   (None, 3)                 0         \n",
      "                                                                 \n",
      "=================================================================\n",
      "Total params: 227\n",
      "Trainable params: 227\n",
      "Non-trainable params: 0\n",
      "_________________________________________________________________\n"
     ]
    }
   ],
   "source": [
    "model = Sequential()\n",
    "\n",
    "model.add(Dense(32, input_dim=3))\n",
    "model.add(Activation('relu'))\n",
    "\n",
    "\n",
    "model.add(Dense(3))\n",
    "model.add(Activation('softmax'))\n",
    "model.compile(loss='sparse_categorical_crossentropy',optimizer='Adam',metrics=['sparse_categorical_accuracy'])\n",
    "\n",
    "model.summary()"
   ]
  },
  {
   "cell_type": "code",
   "execution_count": 25,
   "id": "4733fb3a",
   "metadata": {},
   "outputs": [
    {
     "name": "stdout",
     "output_type": "stream",
     "text": [
      "Epoch 1/20\n",
      "340/340 [==============================] - 1s 1ms/step - loss: 1.0422 - sparse_categorical_accuracy: 0.4706\n",
      "Epoch 2/20\n",
      "340/340 [==============================] - 0s 1ms/step - loss: 1.0066 - sparse_categorical_accuracy: 0.4971\n",
      "Epoch 3/20\n",
      "340/340 [==============================] - 0s 1ms/step - loss: 0.9979 - sparse_categorical_accuracy: 0.5206\n",
      "Epoch 4/20\n",
      "340/340 [==============================] - 0s 1ms/step - loss: 0.9919 - sparse_categorical_accuracy: 0.5529\n",
      "Epoch 5/20\n",
      "340/340 [==============================] - 0s 1ms/step - loss: 0.9896 - sparse_categorical_accuracy: 0.5471\n",
      "Epoch 6/20\n",
      "340/340 [==============================] - 0s 1ms/step - loss: 0.9869 - sparse_categorical_accuracy: 0.5471\n",
      "Epoch 7/20\n",
      "340/340 [==============================] - 0s 1ms/step - loss: 0.9856 - sparse_categorical_accuracy: 0.5382\n",
      "Epoch 8/20\n",
      "340/340 [==============================] - 0s 1ms/step - loss: 0.9817 - sparse_categorical_accuracy: 0.5382\n",
      "Epoch 9/20\n",
      "340/340 [==============================] - 0s 1ms/step - loss: 0.9815 - sparse_categorical_accuracy: 0.5588\n",
      "Epoch 10/20\n",
      "340/340 [==============================] - 0s 1ms/step - loss: 0.9788 - sparse_categorical_accuracy: 0.5412\n",
      "Epoch 11/20\n",
      "340/340 [==============================] - 0s 1ms/step - loss: 0.9795 - sparse_categorical_accuracy: 0.5559\n",
      "Epoch 12/20\n",
      "340/340 [==============================] - 0s 1ms/step - loss: 0.9778 - sparse_categorical_accuracy: 0.5500\n",
      "Epoch 13/20\n",
      "340/340 [==============================] - 0s 1ms/step - loss: 0.9765 - sparse_categorical_accuracy: 0.5618\n",
      "Epoch 14/20\n",
      "340/340 [==============================] - 0s 1ms/step - loss: 0.9757 - sparse_categorical_accuracy: 0.5676\n",
      "Epoch 15/20\n",
      "340/340 [==============================] - 0s 1ms/step - loss: 0.9749 - sparse_categorical_accuracy: 0.5735\n",
      "Epoch 16/20\n",
      "340/340 [==============================] - 0s 1ms/step - loss: 0.9742 - sparse_categorical_accuracy: 0.5647\n",
      "Epoch 17/20\n",
      "340/340 [==============================] - 0s 1ms/step - loss: 0.9710 - sparse_categorical_accuracy: 0.5618\n",
      "Epoch 18/20\n",
      "340/340 [==============================] - 0s 1ms/step - loss: 0.9729 - sparse_categorical_accuracy: 0.5676\n",
      "Epoch 19/20\n",
      "340/340 [==============================] - 0s 1ms/step - loss: 0.9706 - sparse_categorical_accuracy: 0.5588\n",
      "Epoch 20/20\n",
      "340/340 [==============================] - 0s 1ms/step - loss: 0.9683 - sparse_categorical_accuracy: 0.5559\n"
     ]
    },
    {
     "data": {
      "text/plain": [
       "<keras.callbacks.History at 0x1ea94d3a430>"
      ]
     },
     "execution_count": 25,
     "metadata": {},
     "output_type": "execute_result"
    }
   ],
   "source": [
    "model.fit(X_train,Y_train,epochs=20,batch_size=1,verbose=1)"
   ]
  },
  {
   "cell_type": "code",
   "execution_count": 26,
   "id": "2128f3fb",
   "metadata": {},
   "outputs": [
    {
     "name": "stdout",
     "output_type": "stream",
     "text": [
      "3/3 [==============================] - 0s 2ms/step - loss: 1.0009 - sparse_categorical_accuracy: 0.6047\n"
     ]
    }
   ],
   "source": [
    "test_loss, test_accuracy= model.evaluate(X_test,Y_test)"
   ]
  },
  {
   "cell_type": "markdown",
   "id": "013127fd",
   "metadata": {},
   "source": [
    "# Phase 2 chargement du versus"
   ]
  },
  {
   "cell_type": "code",
   "execution_count": 27,
   "id": "963c998d",
   "metadata": {},
   "outputs": [],
   "source": [
    "ranking=pd.read_excel(\"classementFIFA.xlsx\")"
   ]
  },
  {
   "cell_type": "code",
   "execution_count": 28,
   "id": "c84e10f5",
   "metadata": {},
   "outputs": [],
   "source": [
    "ranking=ranking[['Rang','Pays','Année']]\n",
    "#ranking"
   ]
  },
  {
   "cell_type": "code",
   "execution_count": 29,
   "id": "3a99aa57",
   "metadata": {},
   "outputs": [],
   "source": [
    "#ranking"
   ]
  },
  {
   "cell_type": "markdown",
   "id": "c33380d4",
   "metadata": {},
   "source": [
    "# Point de depart pour relancer le script"
   ]
  },
  {
   "cell_type": "code",
   "execution_count": null,
   "id": "4d41317c",
   "metadata": {},
   "outputs": [
    {
     "name": "stdout",
     "output_type": "stream",
     "text": [
      "Voici la liste des pays participant à la coupe du monde :\n",
      "Brazil Germany Argentina France England Spain Netherlands Uruguay\n",
      "Belgium Serbia Mexico Poland Portugal Switzerland Austria\n",
      "Croatia Denmark United States South Korea Japan Wales Qatar Senegal\n",
      "Iran Morocco Tunisia Cameroon Canada Ecuador\n",
      "Saudi Arabia Ghana Costa Rica\n",
      "\n",
      "Entrer le premier pays : Spain\n",
      "Spain\n",
      "Entrer le deuxieme pays : Tunisia\n",
      "Tunisia\n",
      "1/1 [==============================] - ETA: 0s"
     ]
    },
    {
     "name": "stderr",
     "output_type": "stream",
     "text": [
      "C:\\Users\\chris\\AppData\\Local\\Temp\\ipykernel_14748\\357381894.py:20: SettingWithCopyWarning: \n",
      "A value is trying to be set on a copy of a slice from a DataFrame\n",
      "\n",
      "See the caveats in the documentation: https://pandas.pydata.org/pandas-docs/stable/user_guide/indexing.html#returning-a-view-versus-a-copy\n",
      "  poule['Rang_Pays1'][0]=ranking['Rang'][(ranking['Pays']==poule[\"Pays1\"][0])&(ranking['Année']==2022)]\n",
      "C:\\Users\\chris\\AppData\\Local\\Temp\\ipykernel_14748\\357381894.py:21: SettingWithCopyWarning: \n",
      "A value is trying to be set on a copy of a slice from a DataFrame\n",
      "\n",
      "See the caveats in the documentation: https://pandas.pydata.org/pandas-docs/stable/user_guide/indexing.html#returning-a-view-versus-a-copy\n",
      "  poule['Rang_Pays2'][0]=ranking['Rang'][(ranking['Pays']==poule[\"Pays2\"][0])&(ranking['Année']==2022)]\n"
     ]
    },
    {
     "name": "stdout",
     "output_type": "stream",
     "text": [
      "1/1 [==============================] - 0s 108ms/step\n",
      "\n",
      "\n",
      "Pour le match entre Spain et Tunisia \n",
      "\n",
      "\n",
      "\n",
      "0.52386373  de probabilité de victoire pour Spain \n",
      "\n",
      "0.21050729  de probabilité de match nul \n",
      "\n",
      "0.265629  de probabilité de victoire pour Tunisia \n",
      "\n",
      "\n",
      "\n",
      "Voici la liste des pays participant à la coupe du monde :\n",
      "Brazil Germany Argentina France England Spain Netherlands Uruguay\n",
      "Belgium Serbia Mexico Poland Portugal Switzerland Austria\n",
      "Croatia Denmark United States South Korea Japan Wales Qatar Senegal\n",
      "Iran Morocco Tunisia Cameroon Canada Ecuador\n",
      "Saudi Arabia Ghana Costa Rica\n",
      "\n",
      "Entrer le premier pays : Canada\n",
      "Canada\n",
      "Entrer le deuxieme pays : Poland\n",
      "Poland\n",
      "1/1 [==============================] - 0s 26ms/step\n"
     ]
    },
    {
     "name": "stderr",
     "output_type": "stream",
     "text": [
      "C:\\Users\\chris\\AppData\\Local\\Temp\\ipykernel_14748\\357381894.py:20: SettingWithCopyWarning: \n",
      "A value is trying to be set on a copy of a slice from a DataFrame\n",
      "\n",
      "See the caveats in the documentation: https://pandas.pydata.org/pandas-docs/stable/user_guide/indexing.html#returning-a-view-versus-a-copy\n",
      "  poule['Rang_Pays1'][0]=ranking['Rang'][(ranking['Pays']==poule[\"Pays1\"][0])&(ranking['Année']==2022)]\n",
      "C:\\Users\\chris\\AppData\\Local\\Temp\\ipykernel_14748\\357381894.py:21: SettingWithCopyWarning: \n",
      "A value is trying to be set on a copy of a slice from a DataFrame\n",
      "\n",
      "See the caveats in the documentation: https://pandas.pydata.org/pandas-docs/stable/user_guide/indexing.html#returning-a-view-versus-a-copy\n",
      "  poule['Rang_Pays2'][0]=ranking['Rang'][(ranking['Pays']==poule[\"Pays2\"][0])&(ranking['Année']==2022)]\n"
     ]
    },
    {
     "name": "stdout",
     "output_type": "stream",
     "text": [
      "\n",
      "\n",
      "Pour le match entre Canada et Poland \n",
      "\n",
      "\n",
      "\n",
      "0.39846924  de probabilité de victoire pour Canada \n",
      "\n",
      "0.22603068  de probabilité de match nul \n",
      "\n",
      "0.37550005  de probabilité de victoire pour Poland \n",
      "\n",
      "\n",
      "\n",
      "Voici la liste des pays participant à la coupe du monde :\n",
      "Brazil Germany Argentina France England Spain Netherlands Uruguay\n",
      "Belgium Serbia Mexico Poland Portugal Switzerland Austria\n",
      "Croatia Denmark United States South Korea Japan Wales Qatar Senegal\n",
      "Iran Morocco Tunisia Cameroon Canada Ecuador\n",
      "Saudi Arabia Ghana Costa Rica\n",
      "\n"
     ]
    }
   ],
   "source": [
    "pays1='France'\n",
    "pays2='England'\n",
    "host=0\n",
    "while pays1!='bordeaux':\n",
    "    print(\"Voici la liste des pays participant à la coupe du monde :\\nBrazil Germany Argentina France England Spain Netherlands Uruguay\\nBelgium Serbia Mexico Poland Portugal Switzerland Austria\\nCroatia Denmark United States South Korea Japan Wales Qatar Senegal\\nIran Morocco Tunisia Cameroon Canada Ecuador\\nSaudi Arabia Ghana Costa Rica\\n\")\n",
    "    pays1=input('Entrer le premier pays : ')\n",
    "    if(pays1=='Qatar'):\n",
    "        host=1\n",
    "    else:\n",
    "        host=0\n",
    "    print(pays1)\n",
    "    pays2=input('Entrer le deuxieme pays : ')\n",
    "    print(pays2)\n",
    "\n",
    "    match_poule=pd.DataFrame({'Pays1': [pays1], 'Pays2': [pays2], 'Rang_Pays1': [0], 'Rang_Pays2': [0],'Host': [host]},\n",
    "                          index = [0])\n",
    "    poule=match_poule\n",
    "    poule_Pays=match_poule\n",
    "\n",
    "    poule['Rang_Pays1'][0]=ranking['Rang'][(ranking['Pays']==poule[\"Pays1\"][0])&(ranking['Année']==2022)]\n",
    "    poule['Rang_Pays2'][0]=ranking['Rang'][(ranking['Pays']==poule[\"Pays2\"][0])&(ranking['Année']==2022)]\n",
    "\n",
    "    poule['Rang_Pays1']=(1.)/(poule['Rang_Pays1'])\n",
    "    poule['Rang_Pays2']=(1.)/(poule['Rang_Pays2'])\n",
    "    X_pred=poule[['Rang_Pays1','Rang_Pays2','Host']].values\n",
    "    \n",
    "    \n",
    "    prediction=model.predict(X_pred)\n",
    "    i=0\n",
    "    for pred in prediction:\n",
    "        print('\\n\\nPour le match entre',poule_Pays['Pays1'][i],'et',poule_Pays['Pays2'][i],'\\n\\n\\n')\n",
    "        if (np.argmax(prediction[i]))==2 :\n",
    "            print(pred[2],' de probabilité de victoire pour '+ poule_Pays['Pays1'][0],'\\n')\n",
    "            print(pred[1],' de probabilité de match nul \\n')\n",
    "            print(pred[0],' de probabilité de victoire pour '+poule_Pays['Pays2'][0],'\\n\\n\\n')\n",
    "        elif (np.argmax(prediction[i]))==0:\n",
    "            print(pred[0],' de probabilité de victoire pour '+poule_Pays['Pays2'][0],'\\n')\n",
    "            print(pred[1],' de probabilité de match nul \\n')\n",
    "            print(pred[2],' de probabilité de victoire pour '+poule_Pays['Pays1'][0],'\\n\\n\\n')\n",
    "        else :\n",
    "            print(pred[1],' de probabilité de match nul \\n')\n",
    "            print(pred[0],' de probabilité de victoire pour '+poule_Pays['Pays1'][0],'\\n')\n",
    "            \n",
    "            print(pred[2],' de probabilité de victoire pour '+poule_Pays['Pays2'][0],'\\n')\n",
    "\n",
    "\n",
    "        i=i+1\n",
    "    \n",
    "    \n",
    "    "
   ]
  },
  {
   "cell_type": "code",
   "execution_count": null,
   "id": "aa697aa0",
   "metadata": {},
   "outputs": [],
   "source": []
  },
  {
   "cell_type": "code",
   "execution_count": null,
   "id": "3427d44c",
   "metadata": {},
   "outputs": [],
   "source": []
  }
 ],
 "metadata": {
  "kernelspec": {
   "display_name": "Python 3",
   "language": "python",
   "name": "python3"
  },
  "language_info": {
   "codemirror_mode": {
    "name": "ipython",
    "version": 3
   },
   "file_extension": ".py",
   "mimetype": "text/x-python",
   "name": "python",
   "nbconvert_exporter": "python",
   "pygments_lexer": "ipython3",
   "version": "3.8.8"
  }
 },
 "nbformat": 4,
 "nbformat_minor": 5
}
