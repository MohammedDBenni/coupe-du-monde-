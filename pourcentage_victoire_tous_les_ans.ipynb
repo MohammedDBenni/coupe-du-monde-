{
 "cells": [
  {
   "cell_type": "code",
   "execution_count": 1,
   "id": "ae0c2053",
   "metadata": {},
   "outputs": [],
   "source": [
    "import csv\n",
    "import pandas as pd\n",
    "import numpy as np\n",
    "import datetime\n",
    "\n",
    "result=pd.read_csv(\"results.csv\")\n",
    "#result\n",
    "\n",
    "listepays=[\"Brazil\",\"Germany\",\"Italy\",\"Argentina\",\"France\",\"England\",\"Spain\",\"Netherlands\",\"Uruguay\",\"Sweden\",\"Belgium\",\"Russia\",\"Serbia\",\"Mexico\",\"Poland\",\"Hungary\",\"Portugal\",\"Switzerland\",\"Czech Republic\",\"Austria\",\"Chile\",\"Croatia\",\"Denmark\",\"Paraguay\",\"Colombia\",\"United States\",\"Romania\",\"South Korea\",\"Nigeria\",\"Japan\",\"Costa Rica\",\"Scotland\",\"Cameroon\",\"Peru\",\"Bulgaria\",\"Turkey\",\"Ghana\",\"Republic of Ireland\",\"Northern Ireland\",\"Ecuador\",\"Senegal\",\"Algeria\",\"Morocco\",\"Saudi Arabia\",\"Ivory Coast\",\"South Africa\",\"Tunisia\",\"Iran\",\"Australia\",\"Norway\",\"Greece\",\"Ukraine\",\"Wales\",\"Slovakia\",\"Slovenia\",\"Cuba\",\"Bosnia and Herzegovina\",\"Jamaica\",\"New Zealand\",\"Honduras\",\"Angola\",\"Israel\",\"Egypt\",\"Iceland\",\"North Korea\",\"Kuwait\",\"Trinidad and Tobago\",\"Bolivia\",\"Iraq\",\"Togo\",\"Canada\",\"Indonesia\",\"Panama\",\"United Arab Emirates\",\"China PR\",\"Haiti\",\"Congo DR\",\"El Salvador\",\"Czechoslovakia\", \"Yugoslavia\",'Qatar','Autre pays']\n",
    "listeannee=range(1930,2023)\n",
    "\n",
    "\n",
    "result['date'] = pd.to_datetime(result['date'])\n",
    "result['date'] = result['date'].dt.year\n",
    "\n",
    "with open('pourcentage_victoire_tous_les_ans.csv','w') as file:\n",
    "    file.write('pays,annee,pourcentage_victoire,but_mis,but_enc\\n')\n",
    "    for pays in listepays:\n",
    "        for annee in listeannee:\n",
    "            but_mis_match=0\n",
    "            but_mis_dom=0\n",
    "            but_mis_ext=0\n",
    "            but_enc_match=0\n",
    "            but_enc_dom=0 \n",
    "            but_enc_ext=0\n",
    "            \n",
    "            \n",
    "            filtrePays = result.loc[((result[\"away_team\"]==pays) | (result[\"home_team\"]==pays)) & ((result[\"date\"]==(annee-1))|(result[\"date\"]==annee))& (result[\"tournament\"]!=(\"FIFA World Cup\"))]\n",
    "            pays_ext= filtrePays.loc[filtrePays[\"away_team\"] == pays] \n",
    "            pays_dom=filtrePays.loc[filtrePays[\"home_team\"] == pays] \n",
    "            pays_v_dom = pays_dom.loc[pays_dom[\"home_score\"] > pays_dom[\"away_score\"]]\n",
    "            but_mis_dom=sum(pays_dom['home_score'].values)\n",
    "            but_enc_dom=sum(pays_dom['away_score'].values)\n",
    "\n",
    "            pays_v_ext=pays_ext.loc[pays_ext[\"away_score\"] > pays_ext[\"home_score\"]]\n",
    "            but_mis_ext=sum(pays_ext['away_score'].values)\n",
    "            but_enc_ext=sum(pays_ext['home_score'].values)\n",
    "            #print(len(pays_v_ext))\n",
    "            if pays == 'Autre pays':\n",
    "                file.write(pays+','+str(annee)+','+'20.00'+','+'0.8'+','+'1.8'+'\\n')\n",
    "\n",
    "            elif len(filtrePays)!=0:\n",
    "                pourcentagePays= (len(pays_v_dom) + len(pays_v_ext)) / len(filtrePays) *100\n",
    "                but_mis_match=(but_mis_dom+but_mis_ext)/ len(filtrePays)\n",
    "                but_enc_match=(but_enc_dom+but_enc_ext)/ len(filtrePays)\n",
    "                \n",
    "\n",
    "                #print(f\"% victoire de l'équipe de {pays} avant CDM de {annee} est de : {round(pourcentagePays,2)} but mis par match : {round(but_mis_match,1)}but encaissé par match : {round(but_enc_match,1)}\")\n",
    "                fichiersortie=pays,annee,pourcentagePays       \n",
    "                file.write(pays+','+str(annee)+','+str(round(pourcentagePays,2))+','+str(round(but_mis_match,1))+','+str(round(but_enc_match,1))+'\\n')\n",
    "                \n"
   ]
  },
  {
   "cell_type": "code",
   "execution_count": null,
   "id": "21bc7b9c",
   "metadata": {},
   "outputs": [],
   "source": []
  },
  {
   "cell_type": "code",
   "execution_count": null,
   "id": "cd39a0ed",
   "metadata": {},
   "outputs": [],
   "source": []
  }
 ],
 "metadata": {
  "kernelspec": {
   "display_name": "Python 3",
   "language": "python",
   "name": "python3"
  },
  "language_info": {
   "codemirror_mode": {
    "name": "ipython",
    "version": 3
   },
   "file_extension": ".py",
   "mimetype": "text/x-python",
   "name": "python",
   "nbconvert_exporter": "python",
   "pygments_lexer": "ipython3",
   "version": "3.8.8"
  }
 },
 "nbformat": 4,
 "nbformat_minor": 5
}
